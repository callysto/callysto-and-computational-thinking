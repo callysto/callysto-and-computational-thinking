{
 "cells": [
  {
   "cell_type": "markdown",
   "id": "57f03a22-aedd-4fdd-ae79-af75722a3dd0",
   "metadata": {},
   "source": [
    "![Callysto.ca Banner](https://github.com/callysto/curriculum-notebooks/blob/master/callysto-notebook-banner-top.jpg?raw=true)"
   ]
  },
  {
   "cell_type": "markdown",
   "id": "9a711085-097f-460b-b501-b591f2bbc416",
   "metadata": {},
   "source": [
    "# Module 6 Unit 2 - Learning Outcomes\n",
    "\n",
    "By the end of this unit, you will be able to\n",
    "* Identify the steps involved in data analysis\n",
    "\n",
    "# Getting Started with Data Analysis\n",
    "\n",
    "### The Data Analysis Process\n",
    "Many of the basic steps of data analysis overlap with the computational thinking process. Generally speaking data analysis involves the following steps that can be iterated and repeated as needed:\n",
    "\n",
    "<br>\n",
    "\n",
    "**Data Analysis Process**\n",
    "\n",
    "| Step | Description                                                                                             | Details                                                                                                         |\n",
    "|------|---------------------------------------------------------------------------------------------------------|-----------------------------------------------------------------------------------------------------------------|\n",
    "| 1    | Identifying why you need or want to do data analysis.                                                   | Start by asking/writing down questions or identifying needs. For example: What is the problem you want to study? What are your needs? What is your hypothesis? |\n",
    "| 2    | Finding a suitable data source to ask the questions against.                                            | You may already be collecting data that can be used to help address your questions or needs, or you can leverage commercially or publicly (Open Data) available data. |\n",
    "| 3    | Cleaning (or scrubbing) the data. This is often referred to as the Extract-Transform-Load (ETL) portion of the data analysis process. | The cleaning process involves things such as importing, tidying and standardizing the data so that we end up with nicely formatted data (e.g. consistent date-time format) that can be used easily for further analysis. |\n",
    "| 4    | Exploring the Data.                                                                                     | This involves visualizing or graphing the data to look for trends and patterns.  This also involves the development of statistical models to examine these relationships. |\n",
    "| 5    | Interpreting the Results.                                                                               | Critically examining the results of the data exploration for solutions to the questions being asked (Step 1). This is often written in a non-\n",
    "\n",
    "<br>\n",
    "\n",
    "Now that we understand the process of analyzing and representing data, let's try to put this into action using open data sources and examples"
   ]
  },
  {
   "cell_type": "markdown",
   "id": "d55e408c-db2a-42bb-9426-fd5cf38946a4",
   "metadata": {},
   "source": [
    "[![Callysto.ca License](https://github.com/callysto/curriculum-notebooks/blob/master/callysto-notebook-banner-bottom.jpg?raw=true)](https://github.com/callysto/curriculum-notebooks/blob/master/LICENSE.md)"
   ]
  }
 ],
 "metadata": {
  "kernelspec": {
   "display_name": "Python 3 (ipykernel)",
   "language": "python",
   "name": "python3"
  },
  "language_info": {
   "codemirror_mode": {
    "name": "ipython",
    "version": 3
   },
   "file_extension": ".py",
   "mimetype": "text/x-python",
   "name": "python",
   "nbconvert_exporter": "python",
   "pygments_lexer": "ipython3",
   "version": "3.9.12"
  }
 },
 "nbformat": 4,
 "nbformat_minor": 5
}
