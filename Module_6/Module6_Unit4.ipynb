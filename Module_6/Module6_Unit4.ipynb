{
 "cells": [
  {
   "cell_type": "markdown",
   "id": "57f03a22-aedd-4fdd-ae79-af75722a3dd0",
   "metadata": {},
   "source": [
    "![Callysto.ca Banner](https://github.com/callysto/curriculum-notebooks/blob/master/callysto-notebook-banner-top.jpg?raw=true)"
   ]
  },
  {
   "cell_type": "markdown",
   "id": "9a711085-097f-460b-b501-b591f2bbc416",
   "metadata": {},
   "source": [
    "# Module 6 Unit 4 - Learning Outcomes\n",
    "\n",
    "By the end of this unit, you will be able to\n",
    "* Identify how you can use some open data examples in your classroom\n",
    "\n",
    "# Classroom Application (Optional)\n",
    "\n",
    "### Exploring Open Data in the Classroom\n",
    "\n",
    "\n",
    "<p align=\"center\" width=\"100%\">\n",
    "    <img width=\"50%\" src=\"../_images/M6_U4_image.jpg\">\n",
    "</p>\n",
    "\n",
    "The use of open data can enhance a wide array of subjects topics in a classroom setting. \n",
    "\n",
    "For example, Grade 5 students in Alberta learn about weather phenomena and the methods used for weather study, including measurements of temperature, and amounts of precipitation. [(Alberta Science Program of Studies)](https://www.learnalberta.ca/ProgramsOfStudy.aspx?lang=en)\n",
    "\n",
    "The Callysto project has created weather-related notebook tutorials where students learn about weather phenomena and weather in their geographic areas. These notebooks allow learners to access weather data from [weather.gc.ca](https://weather.gc.ca/) and attempt to plot weather data (precipitation or temperature) over a period of time. Learners can also examine trends in the data including looking at the highest and lowest values.\n",
    "\n",
    "The following exercises are more advanced applications of open data analysis using Jupyter Notebooks. If this is beyond your comfort zone, we recommend that you do one of the following:\n",
    "\n",
    "* Allow yourself extra time to go through the activity\n",
    "* Invite a colleague or student to work through the content with you\n",
    "* Leave it for now and return to these activities when you are ready for them.\n",
    "\n",
    "Whatever option you choose, we recommend adding these Jupyter Notebooks to your Callysto Hub so that you can easily access them at any time.\n",
    "\n",
    "### External Activity\n",
    "\n",
    "**Activity #1**\n",
    "\n",
    "Explore creating climate graphs using World Bank open data. \n",
    "\n",
    "**Activity #2 (optional)**\n",
    "\n",
    "Use this notebook to explore how to interact with weather.gc.ca to access regional and historical weather data. Learners will examine and graph the data across multiple years and look for trends.\n",
    "\n",
    "Use this second notebook to explore how to perform an advanced statistical analysis of weather.gc.ca climate data by creating a heat map of temperature variation on the region of interest."
   ]
  },
  {
   "cell_type": "markdown",
   "id": "d55e408c-db2a-42bb-9426-fd5cf38946a4",
   "metadata": {},
   "source": [
    "[![Callysto.ca License](https://github.com/callysto/curriculum-notebooks/blob/master/callysto-notebook-banner-bottom.jpg?raw=true)](https://github.com/callysto/curriculum-notebooks/blob/master/LICENSE.md)"
   ]
  }
 ],
 "metadata": {
  "kernelspec": {
   "display_name": "Python 3 (ipykernel)",
   "language": "python",
   "name": "python3"
  },
  "language_info": {
   "codemirror_mode": {
    "name": "ipython",
    "version": 3
   },
   "file_extension": ".py",
   "mimetype": "text/x-python",
   "name": "python",
   "nbconvert_exporter": "python",
   "pygments_lexer": "ipython3",
   "version": "3.9.12"
  }
 },
 "nbformat": 4,
 "nbformat_minor": 5
}
