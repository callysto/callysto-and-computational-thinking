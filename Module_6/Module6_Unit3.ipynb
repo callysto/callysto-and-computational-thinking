{
 "cells": [
  {
   "cell_type": "markdown",
   "id": "57f03a22-aedd-4fdd-ae79-af75722a3dd0",
   "metadata": {},
   "source": [
    "![Callysto.ca Banner](https://github.com/callysto/curriculum-notebooks/blob/master/callysto-notebook-banner-top.jpg?raw=true)"
   ]
  },
  {
   "cell_type": "markdown",
   "id": "9a711085-097f-460b-b501-b591f2bbc416",
   "metadata": {},
   "source": [
    "# Module 6 Unit 3 - Tutorial: Working with Open Data\n",
    "\n",
    "## Unit Learning Objectives\n",
    "\n",
    "By the end of this unit, you will be able to\n",
    "* Understand what open data is\n",
    "* Understand that there are many reliable open data sources available to use for free\n",
    "\n",
    "\n",
    "### What is Open Data?\n",
    "\n",
    "The Government of Canada [defines open data](https://open.canada.ca/en/open-data-principles) as “structured data that is machine-readable, freely shared, used and built on without restrictions.” Or [less technically stated](http://opendatahandbook.org/guide/en/what-is-open-data/): “Open data is data that can be freely used, re-used and redistributed by anyone - subject only, at most, to the requirement to attribute and sharealike.”\n",
    "\n",
    "These descriptions are a good place to start, but we gain more insight into the principles and standards of open data by digging the [requirements](https://opendefinition.org/) a bit further, specifically: \n",
    "\n",
    "* **Availability and Access:** the data must be available as a whole and at no more than a reasonable reproduction cost, preferably by downloading over the internet. The data must also be available in a convenient and modifiable form (e.g. comma-separated value file type).\n",
    "* **Re-use and Redistribution:** the data must be provided under terms that permit re-use and redistribution, including the ability to combine it with data from elsewhere.\n",
    "* **Universal Participation:** everyone must be able to use, re-use and redistribute. There should be no discrimination against fields of endeavour or against persons or groups. For example, 'non-commercial' restrictions that would prevent 'commercial' use, or restrictions of use for certain purposes (e.g. only in education), are not allowed.\n",
    "\n",
    "### Classroom Benefits\n",
    "\n",
    "The [benefits](https://www.europeandataportal.eu/en/using-data/benefits-of-open-data) gained from the publication of open data are often related to improved awareness on governmental and/or societal issues. These include improved efficiency of public services through sharing of data between public agencies, the development of new services or businesses that rely on open data, and increased societal benefits through transparent disclosure of data and information. \n",
    "\n",
    "Access to open data is available to any classroom in Canada with an internet connection and has the opportunity to be transformative for both educators and students. For example, one common issue for educators is classroom resources such as textbooks often contain outdated information. A benefit that easy access to open data can provide is a source for current data to ensure that lessons or lesson plans remain relevant and engaging for students. As well, data sources that were previously paper bound can be digitized and transformed in different manners to enhance or create lessons that were previously not possible."
   ]
  },
  {
   "cell_type": "markdown",
   "id": "170649f7-9a47-45ec-aebd-6fe042dd8ba5",
   "metadata": {},
   "source": [
    "### Accessing Open Data Sources\n",
    "\n",
    "Open data is published by many sources, including municipalities, provinces, federal governments, and other public and private sector organizations. You may be surprised at who publishes open data and how easy it is to access. \n",
    "\n",
    "For example, in 2017, three Alberta cities placed in the top 20 nationwide, for their open data initiatives, according to the Open Cities Index.\n",
    "\n",
    "* The [City of Edmonton](https://data.edmonton.ca/) placed 1st\n",
    "* The [City of Calgary](https://data.calgary.ca/) placed 4th\n",
    "* [Strathcona County](https://publicsectordigest.com/open-cities-index-results-2017) placed 11th\n",
    "\n",
    "Each of these cities have robust open data infrastructure and datasets available for use by the public. The [Government of Alberta](https://open.alberta.ca/opendata) and the Federal Government of Canada also have large open data repositories available to the public that are continuously updated. \n",
    "\n",
    "<p align=\"center\" width=\"100%\">\n",
    "    <img width=\"50%\" src=\"../_images/M6_U3_image.jpg\">\n",
    "</p>\n",
    "\n",
    "*City of Edmonton*\n",
    "\n",
    "\n",
    "**What to Look for**\n",
    "\n",
    "Although many open data sources exist, not all are created equally with respect to how easy they are to perform data analysis on. It’s also important to consider the reliability of the data source-- some online data are inaccurate, or even intentionally misleading. \n",
    "\n",
    "As with any information source, open data is affected by the biases of the people who have curated it. Whenever possible, try to use sources that don’t have a vested interest in certain data results, or consider comparing multiple sources with alternative interest. \n",
    "\n",
    "For example, if you're looking to study the health effects of tobacco, a dataset provided by a study funded by a tobacco company may have different results than an independent study.\n",
    "\n",
    "Always find out your data's origins before you draw any major conclusions from it!\n",
    "\n",
    "### External Activity\n",
    "\n",
    "Let’s dig into these ideas further in a Jupyter notebook. Follow the steps below to get the Intro to Open Data notebook and open it in your Callysto account.\n",
    "\n",
    "1. Start by opening the notebook file. Alternatively you can download it then upload the notebook file to your Callysto Hub. If you need a reminder on how to do this, revisit Module 4, Unit 5, Lesson 2.\n",
    "1. Launch the new notebook, Intro to Open Data, by clicking on the file name in the Callysto Hub.\n",
    "1. Once the notebook has loaded, don’t forget to click **Run All** to display the contents. \n",
    "\n",
    "Read through the Intro to Open Data notebook and follow any interaction prompts for an overview of how some datasets are better than others, some extra sources of open data, and to see several examples of open data being analyzed within Jupyter notebooks.\n",
    "\n",
    "\n",
    "### External Activity: Using Open Data in Jupyter Notebooks\n",
    "\n",
    "\n",
    "Now that you have read through the Jupyter Notebook on open data, you will get the opportunity to explore a sample Jupyter Notebook that uses open data.\n",
    "\n",
    "In the activity below, each of the available notebooks showcase different open data sources on different subjects, and demonstrates how you might enhance an existing lesson or activities with open data.\n",
    "\n",
    "1. If you are not currently logged in to your Callysto account, do so now.\n",
    "\n",
    "1.  Go to https://callysto.ca/learning_modules\n",
    "\n",
    "1. Find and open one of the following notebooks. Clicking the link will automatically add the file to your Callysto Hub and then open it.\n",
    "\n",
    "    * Electrical Conductivity\n",
    "    * Shakespeare and Statistics\n",
    "\n",
    "1. When the notebook opens, click Run All to display the contents.\n",
    "\n",
    "1. Work through the notebook as if you were a student, completing any questions and activities."
   ]
  },
  {
   "cell_type": "markdown",
   "id": "d55e408c-db2a-42bb-9426-fd5cf38946a4",
   "metadata": {},
   "source": [
    "[![Callysto.ca License](https://github.com/callysto/curriculum-notebooks/blob/master/callysto-notebook-banner-bottom.jpg?raw=true)](https://github.com/callysto/curriculum-notebooks/blob/master/LICENSE.md)"
   ]
  }
 ],
 "metadata": {
  "kernelspec": {
   "display_name": "Python 3 (ipykernel)",
   "language": "python",
   "name": "python3"
  },
  "language_info": {
   "codemirror_mode": {
    "name": "ipython",
    "version": 3
   },
   "file_extension": ".py",
   "mimetype": "text/x-python",
   "name": "python",
   "nbconvert_exporter": "python",
   "pygments_lexer": "ipython3",
   "version": "3.9.12"
  }
 },
 "nbformat": 4,
 "nbformat_minor": 5
}
