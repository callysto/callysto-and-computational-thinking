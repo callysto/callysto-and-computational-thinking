{
 "cells": [
  {
   "cell_type": "markdown",
   "id": "57f03a22-aedd-4fdd-ae79-af75722a3dd0",
   "metadata": {},
   "source": [
    "![Callysto.ca Banner](https://github.com/callysto/curriculum-notebooks/blob/master/callysto-notebook-banner-top.jpg?raw=true)"
   ]
  },
  {
   "cell_type": "markdown",
   "id": "9a711085-097f-460b-b501-b591f2bbc416",
   "metadata": {},
   "source": [
    "# Module 6 Unit 5 - Data Analysis and the Jupyter Notebook\n",
    "\n",
    "## Unit Learning Objectives\n",
    "\n",
    "By the end of this unit, you will be able to\n",
    "* Perform data analysis in a Jupyter Notebook\n",
    "* Create your own Jupyter Notebook that analyzes data\n",
    "\n",
    "\n",
    "\n",
    "### Why use Jupyter Notebooks to Analyze Data?\n",
    "\n",
    "Jupyter Notebook was developed in part as a way to communicate the methods and results of data analysis in a single document, including information such as data, executable code and statistics alongside written explanations.\n",
    "\n",
    "An example of how this is valuable, consider if your assignment was to assess whether your favorite NHL team was on track to make the playoffs. Without using Jupyter Notebooks, you approach would likely involve\n",
    "\n",
    "* Copying data from hockey stats website such as [hockey-reference.com](https://www.hockey-reference.com/) and pasting it into a spreadsheet\n",
    "* Making a graph from the tabular data\n",
    "* Using a word processor such as Microsoft Word or GoogleDoc to write a report based on the static snapshot of how that team was doing at that moment in time.\n",
    "* Copying the graph you made and pasting it into the report.\n",
    "* Using a Jupyter Notebook, creating a report is not only easier, but more comprehensive for the reader. In a single document you can\n",
    "\n",
    "Use Python programming to connect to live data source being updated real-time\n",
    "* Write up an explanation of the data analysis in adjacent cell blocks\n",
    "* Choose to represent how the team is doing using either static or live data\n",
    "- If using live data, you can design the document to remain relevant, even if you were to come back to the notebook next month or year\n",
    "* Create graphs directly inside the notebook\n",
    "* Make those graphs interactive so readers can further explore the data for themselves\n",
    "\n",
    "### External Activity: Data Analysis Exercises\n",
    "\n",
    "The following two notebooks have been made available to you through github.com.\n",
    "\n",
    "There isn’t one standard way to download Jupyter Notebooks from the various sites that are used to host/share them. In this case you can follow the instructions below. Otherwise, we recommend that you check out the FAQ for each site.\n",
    "\n",
    "1. Click on the link.\n",
    "1. Click on Raw\n",
    "1. Press Ctrl+S (PC) or Command+S (Mac) to save the file.  If the file comes up with a .txt extension, change the Format to All files and Delete the .txt extension in the filename.\n",
    "1. Follow the instructions that were provided in Module 4 Unit 5 to add the file to your Callysto Hub.\n",
    "1. Don’t forget to Click Run All to view the Notebook. \n",
    "\n",
    "**Notebook 1: NHL Data**\n",
    "\n",
    "Work through this Notebook to find out how the process described above plays out in a Jupyter Notebook.\n",
    "\n",
    "https://github.com/callysto/getting-started/blob/master/WebScraping/Web-scraping-NHL-Playoff-Pace.ipynb\n",
    "\n",
    "Try changing teams and years to see if your team is on playoff pace.\n",
    "\n",
    "**Notebook 2: Lab Report Template Tutorial**\n",
    "\n",
    "Work through Callysto’s lab report template tutorial to get familiar with how you can create your own data or work with data from a different source and create a table and graph.\n",
    "\n",
    "https://github.com/callysto/curriculum-notebooks/blob/master/Science/ScienceLabReportTemplate/science-lab-report-template.ipynb\n",
    "\n",
    "### Reflections "
   ]
  },
  {
   "cell_type": "markdown",
   "id": "d55e408c-db2a-42bb-9426-fd5cf38946a4",
   "metadata": {},
   "source": [
    "[![Callysto.ca License](https://github.com/callysto/curriculum-notebooks/blob/master/callysto-notebook-banner-bottom.jpg?raw=true)](https://github.com/callysto/curriculum-notebooks/blob/master/LICENSE.md)"
   ]
  }
 ],
 "metadata": {
  "kernelspec": {
   "display_name": "Python 3 (ipykernel)",
   "language": "python",
   "name": "python3"
  },
  "language_info": {
   "codemirror_mode": {
    "name": "ipython",
    "version": 3
   },
   "file_extension": ".py",
   "mimetype": "text/x-python",
   "name": "python",
   "nbconvert_exporter": "python",
   "pygments_lexer": "ipython3",
   "version": "3.9.12"
  }
 },
 "nbformat": 4,
 "nbformat_minor": 5
}
