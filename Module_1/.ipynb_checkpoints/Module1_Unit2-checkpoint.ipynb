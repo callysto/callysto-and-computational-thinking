{
 "cells": [
  {
   "cell_type": "markdown",
   "id": "57f03a22-aedd-4fdd-ae79-af75722a3dd0",
   "metadata": {},
   "source": [
    "![Callysto.ca Banner](https://github.com/callysto/curriculum-notebooks/blob/master/callysto-notebook-banner-top.jpg?raw=true)"
   ]
  },
  {
   "cell_type": "markdown",
   "id": "9a711085-097f-460b-b501-b591f2bbc416",
   "metadata": {},
   "source": [
    "# Module 1 Unit 2: Computational Thinking in Action\n",
    "\n",
    "## Unit Learning Outcomes\n",
    "\n",
    "By the end of this unit, you will be able to\n",
    "* Apply the steps of computational thinking to an everyday problem\n",
    "* Apply the steps of computational thinking to a rich math problem\n",
    "\n",
    "## Computational Thinking and Everyday Things\n",
    "\n",
    "### Baking a Cake\n",
    "\n",
    "What types of problems can you apply computational thinking to? More than you probably realize. For example, finding solutions to everyday problems such as planning a vacation, scheduling your day and cooking food can benefit from the application of the computational thinking process.\n",
    "\n",
    "![Chocolate cake slice](../_images/chocolate-cake-slice.jpg)\n",
    "\n",
    "For example, a general solution using computational thinking to bake a cake might look like this:\n",
    ">1. Put specific quantities of ingredients together\n",
    ">\n",
    ">2. Mix ingredients\n",
    ">\n",
    ">3. Transfer mixed ingredients to a cake pan\n",
    ">\n",
    ">4. Bake for a specific amount of time\n",
    ">\n",
    ">5. Transfer cake from the cake pan\n",
    "\n",
    "This general solution involves **DECOMPOSING** how to bake a cake into five steps. As well, we’ve **ABSTRACTED** out details by removing specific ingredient names and quantities, equipment required, and baking details such as temperature and time. Once we have our **GENERAL** solution, we can see that baking cakes of a different flavour (vanilla, chocolate or other), or for small or large amounts of people (based on recommended serving size) is not that different. The steps above are the **FORMATTED** solution which can be **EVALUATED** by baking a variety of cakes using this formula. And the result will be a delightful application of computational thinking!\n"
   ]
  },
  {
   "cell_type": "markdown",
   "id": "cf7d9ae7-0f6e-4f5e-89c6-dd932df8b7af",
   "metadata": {},
   "source": [
    "## Computational Thinking and Rich Math Problems\n",
    "\n",
    "### The Calendar Problem\n",
    "\n",
    "Let’s try to solve additional problems using the Computational Thinking framework. One example is figuring out a solution to determine what day of the week your birthday falls on in the current calendar year. \n",
    "\n",
    "![Calendar](../_images/agenda-calendar.jpg)\n",
    "\n",
    "\n",
    "A general solution using Computational Thinking to solve the calendar problem might look like this:\n",
    "\n",
    ">1. Determine what day of the week January 1st falls on for the current year.\n",
    ">\n",
    ">2. Determine what day of the week the 1st of each month falls on for every month between February and your birth month for the current year.\n",
    ">\n",
    ">3. For any given day within your birth month add or subtract multiples of seven to determine what day of the week your birthday falls on.\n",
    "\n",
    "Consider for example a birthday on April 23rd, 2019. If January 1st falls on a Tuesday, then February 1st must be a Friday, March 1st must also be a Friday and April 1st must be a Monday. The 23rd of April must fall on the same day of the week as April 16th, April 9th, and April 2nd. So April 23rd must be a Tuesday since April 1st is a Monday.\n",
    "\n",
    "Formulating this general solution to the calendar problem requires us to **DECOMPOSE** the problem by treating each month independently. Through pattern recognition, we know that there are 7 days in a week and we recognize that the same day of the week repeats itself every addition or subtraction of 7 from the date of interest. We use **ABSTRACTION** also as we remove unnecessary detail such as focusing on determining what day the 1st of the month falls on and how many days are in a given month, and not writing out every single day in a month. As well, we are not concerned about every month in a year but only the months that fall between January 1st and the day of our birthday (unless your birthday falls in December :) \n",
    "\n",
    "Once we have our **GENERAL** solution, we can use it to try and solve related problems. One natural extension of the calendar problem is determining the day of the week your birthday falls on for any calendar year.\n",
    "\n",
    "In this case, we can use our current year calendar problem solution and modify it so that it works for any calendar year including the year you were born. In this case, a **GENERAL** solution using Computational Thinking to solve this problem might look like this:\n",
    "\n",
    ">1. Determine what day of the week January 1st falls on for any given year.\n",
    ">2. Determine what day of the week the 1st of each month falls on for every month between February and your birth month for the given year.\n",
    ">3. For any given day within your birth month add or subtract multiples of seven to determine what day of the week your birthday falls on.\n",
    "\n",
    "The key difference in solving this problem is recognizing that there is a pattern associated with calendar years. Specifically, the calendar repeats itself so that a future year will have the same number of days and start on the same day of the week as for example 2020. Since 2020 is a leap year, there is 1 extra day (February 29th) added to the calendar (366 days total), and leap year calendars repeat themselves every 28 years. This is because each year contributes one extra day (365 days / 7 days per week = 52 weeks and 1 day) and every 4 years a leap year occurs contributing an extra 2 days. So for every 4 year cycle, 5 extra days are contributed and the least common multiple of 5 and 7 (representing the days of the week cycle) is 35, which represents the smallest integer that is evenly divisible by both numbers. Thus, every 28 years, the calendar will have shifted by a total 35 days which is a multiple of 7.\n"
   ]
  },
  {
   "cell_type": "markdown",
   "id": "d99707e4-c8d2-4532-aef1-69f7c6c3f843",
   "metadata": {},
   "source": [
    "### Amazing Calendar Trick\n",
    "\n",
    "Now let’s watch this amazing video about the calendar problem.\n"
   ]
  },
  {
   "cell_type": "code",
   "execution_count": null,
   "id": "f663c937-6ccd-4e03-8300-ddf1b662c678",
   "metadata": {},
   "outputs": [],
   "source": [
    "from IPython.display import YouTubeVideo\n",
    "YouTubeVideo('pdMUk16675U')"
   ]
  },
  {
   "cell_type": "markdown",
   "id": "b9be348b-307f-4d8e-9d86-b164168cfe50",
   "metadata": {},
   "source": [
    "## Challenge Activity Part 1\n",
    "\n",
    "Try solving the following challenge using the Computational Thinking framework:\n",
    "\n",
    "Challenge - *Efficiently Sorting Assignments from Students*\n",
    "\n",
    "Students have submitted their assignments to you their teacher. You’ve assessed the assignments and want to sort them in alphabetical order (based on last name) for distribution.\n",
    "\n",
    "**How would you format a general sorting solution for a small class size (e.g. 5 students)?**\n"
   ]
  },
  {
   "cell_type": "markdown",
   "id": "dbb8a440-274a-4b33-828a-6a6d5e0efd81",
   "metadata": {},
   "source": [
    "## Challenge Activity Part 1: Michael's Solution\n",
    "\n",
    "You would probably take an approach like this: Starting with the unsorted pile of assignments, you remove one assignment at a time from that pile, and add it to a sorted pile, inserting it into its correct position in the sorted pile. You repeat this over and over, each time taking an assignment from the unsorted pile, and inserting it into its correct place in the sorted pile. This algorithm or approach to the problem is known as Insertion Sorting.\n"
   ]
  },
  {
   "cell_type": "markdown",
   "id": "bd847022-404f-4629-b8ea-57989e03d648",
   "metadata": {},
   "source": [
    "## Challenge Activity Part 2\n",
    "\n",
    "**How would you format a general sorting solution for a larger class size (e.g. 30 students)?**\n"
   ]
  },
  {
   "cell_type": "markdown",
   "id": "cee2d3f2-8da9-4f2d-ae15-8c5513ff360c",
   "metadata": {},
   "source": [
    "## Challenge Activity Part 2: Michael's Solution\n",
    "\n",
    "Write down your answer to the challenge. Move on to the next section to learn Michael's solution to the challenge. \n"
   ]
  },
  {
   "cell_type": "markdown",
   "id": "d55e408c-db2a-42bb-9426-fd5cf38946a4",
   "metadata": {},
   "source": [
    "[![Callysto.ca License](https://github.com/callysto/curriculum-notebooks/blob/master/callysto-notebook-banner-bottom.jpg?raw=true)](https://github.com/callysto/curriculum-notebooks/blob/master/LICENSE.md)"
   ]
  }
 ],
 "metadata": {
  "kernelspec": {
   "display_name": "Python 3 (ipykernel)",
   "language": "python",
   "name": "python3"
  },
  "language_info": {
   "codemirror_mode": {
    "name": "ipython",
    "version": 3
   },
   "file_extension": ".py",
   "mimetype": "text/x-python",
   "name": "python",
   "nbconvert_exporter": "python",
   "pygments_lexer": "ipython3",
   "version": "3.11.6"
  }
 },
 "nbformat": 4,
 "nbformat_minor": 5
}
