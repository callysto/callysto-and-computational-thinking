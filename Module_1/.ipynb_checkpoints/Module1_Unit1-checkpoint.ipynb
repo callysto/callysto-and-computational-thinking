{
 "cells": [
  {
   "cell_type": "markdown",
   "id": "57f03a22-aedd-4fdd-ae79-af75722a3dd0",
   "metadata": {},
   "source": [
    "![Callysto.ca Banner](https://github.com/callysto/curriculum-notebooks/blob/master/callysto-notebook-banner-top.jpg?raw=true)"
   ]
  },
  {
   "cell_type": "markdown",
   "id": "9a711085-097f-460b-b501-b591f2bbc416",
   "metadata": {},
   "source": [
    "# Module 1 Unit 1: Computational Thinking and Me\n",
    "\n",
    "## Unit Learning Outcomes\n",
    "\n",
    "By the end of this unit, you will be able to\n",
    "* Understand computational thinking\n",
    "* Describe the steps of computational thinking\n",
    "* Assess your current computational thinking skills\n",
    "\n",
    "## What is computational thinking?\n"
   ]
  },
  {
   "cell_type": "code",
   "execution_count": null,
   "id": "66a5792a-6ce9-47e3-902f-f96ec7b4f186",
   "metadata": {},
   "outputs": [],
   "source": [
    "from IPython.display import YouTubeVideo\n",
    "YouTubeVideo('rRNybWC1q6E')"
   ]
  },
  {
   "cell_type": "markdown",
   "id": "a6ada268-ca46-44ef-b15a-04e7dbf50eec",
   "metadata": {},
   "source": [
    "> “...a way of approaching problems in an analytical, algorithmic manner. It is when people use computational methodologies to work step-by-step through a question or dilemma” **Professor Cathy Adams, Faculty of Education, University of Alberta**\n"
   ]
  },
  {
   "cell_type": "markdown",
   "id": "1e6f7f97-1c92-4a17-ae50-bc64c696c2f2",
   "metadata": {},
   "source": [
    "## Steps\n",
    "\n",
    "Computer scientists must somehow program a computer, that has no understanding beyond the instruction set, to execute commands in an efficient manner to solve problems or perform sometimes complex tasks.\n",
    "\n",
    "\n",
    "**How do they do this?** Well, it depends on the complexity of the challenge but in general, to be able to program a computer to solve a problem we must first understand the problem and come up with potential solutions. Computational Thinking is key to this problem-solving process and can be described in the following steps:\n",
    "\n",
    "1. **Break down the problem - decomposition**\n",
    "> Take a large and complex problem, and break it down into smaller, more manageable problems or steps.\n",
    "\n",
    "2. **Look for patterns or trends**\n",
    "> Identify or generate data which may help solve or simplify the problem.\n",
    "\n",
    "3. **Generalize through abstraction**\n",
    "> Remove unnecessary detail from the problem.\n",
    "\n",
    "4. **Format a general solution - design an algorithm**\n",
    "> Once the problem is broken down accordingly, take those pieces, solve them individually, and put them together logically into a complete solution (e.g. a process or set of rules) known in computer science as an algorithm.\n",
    "\n",
    "5. **Analyze and evaluate the solution**\n",
    "> What new insights do you have based on the solutions to your problem?\n"
   ]
  },
  {
   "cell_type": "markdown",
   "id": "0b7e15b2-5ec0-4481-8e7d-0acf4a0601b2",
   "metadata": {},
   "source": [
    "## Concepts and Approaches\n",
    "\n",
    "As well, Computational Thinking doesn't necessarily require using a computer to solve problems (it probably helps though) but involves the application of the process in the previous section and other tools (concepts and approaches) mentioned in the figure below and on our [Comp 101](https://www.callysto.ca/computational-thinking-tests/) page. \n",
    "\n",
    "Logic, Evaluation, Algorithms, Patterns, Decomposition, and Abstraction are important concepts or techniques that are applied during the process of solving a problem using Computational Thinking.\n",
    "\n",
    "Tinkering, Creating, Debugging, Persevering, and Collaborating are approaches that teachers can use in their classrooms to foster Computational Thinking among their students. Each of these approaches play important everyday roles for computer scientists as they tackle the different problems they encounter.\n",
    "\n",
    "![The Computational Thinkers Barefoot Computing](../_images/the-computational-thinkers-barefoot.jpg)\n",
    "> Source: reproduced with permission from [Barefoot Computing](https://www.barefootcomputing.org/).\n"
   ]
  },
  {
   "cell_type": "markdown",
   "id": "1465f3f2-7cea-4977-815c-3a56ba96ff7b",
   "metadata": {},
   "source": [
    "## Self-Assessment\n",
    "\n",
    "An Introduction to Computational Thinking quiz to help you assess your understanding of the key elements of the computational thinking process: Access the quiz on the BBC website [**HERE**](https://www.bbc.com/bitesize/guides/zp92mp3/test).\n"
   ]
  },
  {
   "cell_type": "markdown",
   "id": "d55e408c-db2a-42bb-9426-fd5cf38946a4",
   "metadata": {},
   "source": [
    "[![Callysto.ca License](https://github.com/callysto/curriculum-notebooks/blob/master/callysto-notebook-banner-bottom.jpg?raw=true)](https://github.com/callysto/curriculum-notebooks/blob/master/LICENSE.md)"
   ]
  }
 ],
 "metadata": {
  "kernelspec": {
   "display_name": "Python 3 (ipykernel)",
   "language": "python",
   "name": "python3"
  },
  "language_info": {
   "codemirror_mode": {
    "name": "ipython",
    "version": 3
   },
   "file_extension": ".py",
   "mimetype": "text/x-python",
   "name": "python",
   "nbconvert_exporter": "python",
   "pygments_lexer": "ipython3",
   "version": "3.11.6"
  }
 },
 "nbformat": 4,
 "nbformat_minor": 5
}
