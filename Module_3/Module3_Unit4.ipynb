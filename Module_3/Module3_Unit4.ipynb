{
 "cells": [
  {
   "cell_type": "markdown",
   "id": "57f03a22-aedd-4fdd-ae79-af75722a3dd0",
   "metadata": {},
   "source": [
    "![Callysto.ca Banner](https://github.com/callysto/curriculum-notebooks/blob/master/callysto-notebook-banner-top.jpg?raw=true)"
   ]
  },
  {
   "cell_type": "markdown",
   "id": "9a711085-097f-460b-b501-b591f2bbc416",
   "metadata": {},
   "source": [
    "# Module 3 Unit 4 - Learning Outcomes\n",
    "\n",
    "By the end of this unit, you will be able to\n",
    "* Add an image to a notebook\n",
    "* Add a video to a notebook\n",
    "\n",
    "## Adding Interactive Elements \n",
    "\n",
    "### Interactive Demonstration \n",
    "\n",
    "Video: Interactive Demonstration\n"
   ]
  },
  {
   "cell_type": "code",
   "execution_count": null,
   "id": "157cc7ed-01bb-4d90-9ed0-41f1e518c6d7",
   "metadata": {},
   "outputs": [],
   "source": [
    "Knowledg"
   ]
  },
  {
   "cell_type": "markdown",
   "id": "d55e408c-db2a-42bb-9426-fd5cf38946a4",
   "metadata": {},
   "source": [
    "[![Callysto.ca License](https://github.com/callysto/curriculum-notebooks/blob/master/callysto-notebook-banner-bottom.jpg?raw=true)](https://github.com/callysto/curriculum-notebooks/blob/master/LICENSE.md)"
   ]
  }
 ],
 "metadata": {
  "kernelspec": {
   "display_name": "Python 3 (ipykernel)",
   "language": "python",
   "name": "python3"
  },
  "language_info": {
   "codemirror_mode": {
    "name": "ipython",
    "version": 3
   },
   "file_extension": ".py",
   "mimetype": "text/x-python",
   "name": "python",
   "nbconvert_exporter": "python",
   "pygments_lexer": "ipython3",
   "version": "3.9.12"
  }
 },
 "nbformat": 4,
 "nbformat_minor": 5
}
