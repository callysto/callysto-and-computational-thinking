{
 "cells": [
  {
   "cell_type": "markdown",
   "id": "57f03a22-aedd-4fdd-ae79-af75722a3dd0",
   "metadata": {},
   "source": [
    "![Callysto.ca Banner](https://github.com/callysto/curriculum-notebooks/blob/master/callysto-notebook-banner-top.jpg?raw=true)"
   ]
  },
  {
   "cell_type": "markdown",
   "id": "9a711085-097f-460b-b501-b591f2bbc416",
   "metadata": {},
   "source": [
    "# Module 3 Unit 3 - Learning Outcomes\n",
    "\n",
    "By the end of this unit, you will be able to\n",
    "* Create a math equation in a notebook\n",
    "\n",
    "\n",
    "## Adding Math Formulas (Optional) \n",
    "\n",
    "### Math Basics \n",
    "\n",
    "As with italics, and bold text, you can get “math mode” in your text by surrounding it with the special character $, which is the dollar sign. For instance, we see one cell in the notebook with the familiar Pythagoras formula: "
   ]
  },
  {
   "cell_type": "markdown",
   "id": "60b76b61-042c-4f5e-886d-eaa85c029eec",
   "metadata": {},
   "source": [
    "<p align=\"center\" width=\"100%\">\n",
    "    <img width=\"60%\" src=\"../_images/Mod3_Unit4AMath2.png\">\n",
    "</p>\n",
    "\n",
    "<p align=\"center\" width=\"100%\">\n",
    "    <img width=\"60%\" src=\"../_images/Mod3_Unit4AMath.png\">\n",
    "</p>\n",
    "\n",
    "\n",
    "The double dollar sign $$ marks the start and end of a mathematical formula. This is written in nice language called LaTeX, which is a very powerful system for writing elegant mathematics. You can read more about it online.\n",
    "\n",
    "***\n",
    "\n",
    "### Optional Activity\n",
    "\n",
    "* Can you write the equation for a line, like y = mx +b, in the proper math format?\n",
    "* Why might you use math formulas in your class, if it’s not a math class?\n",
    "* One hashtag # gives a header. Try two ## or three ### or more, to see what happens\n",
    "* Markdown can even do tables. Can you search the web to learn how to make a simple table?"
   ]
  },
  {
   "cell_type": "markdown",
   "id": "d55e408c-db2a-42bb-9426-fd5cf38946a4",
   "metadata": {},
   "source": [
    "[![Callysto.ca License](https://github.com/callysto/curriculum-notebooks/blob/master/callysto-notebook-banner-bottom.jpg?raw=true)](https://github.com/callysto/curriculum-notebooks/blob/master/LICENSE.md)"
   ]
  }
 ],
 "metadata": {
  "kernelspec": {
   "display_name": "Python 3 (ipykernel)",
   "language": "python",
   "name": "python3"
  },
  "language_info": {
   "codemirror_mode": {
    "name": "ipython",
    "version": 3
   },
   "file_extension": ".py",
   "mimetype": "text/x-python",
   "name": "python",
   "nbconvert_exporter": "python",
   "pygments_lexer": "ipython3",
   "version": "3.9.12"
  }
 },
 "nbformat": 4,
 "nbformat_minor": 5
}
