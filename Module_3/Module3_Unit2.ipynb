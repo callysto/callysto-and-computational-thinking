{
 "cells": [
  {
   "cell_type": "markdown",
   "id": "57f03a22-aedd-4fdd-ae79-af75722a3dd0",
   "metadata": {},
   "source": [
    "![Callysto.ca Banner](https://github.com/callysto/curriculum-notebooks/blob/master/callysto-notebook-banner-top.jpg?raw=true)"
   ]
  },
  {
   "cell_type": "markdown",
   "id": "9a711085-097f-460b-b501-b591f2bbc416",
   "metadata": {},
   "source": [
    "# Module 3 Unit 2 - Opening Your First Jupyter Notebook\n",
    "\n",
    "## Unit Learning Objectives\n",
    "\n",
    "By the end of this unit, you will be able to\n",
    "* Open and read a Jupyter notebook\n",
    "* Look at cells in a notebook, move a cell, create a cell, delete a cell\n",
    "* Run a cell, to make it do something\n",
    "\n",
    "### Interactive Demonstration \n",
    "\n",
    "Using the following interactive, you will learn how to open your first Jupyter Notebook and begin getting comfortable with the menus and features. Use the the arrow buttons in the bottom right corner to move through the demonstration. "
   ]
  },
  {
   "cell_type": "markdown",
   "id": "e850617b-839c-45ec-a170-5eb12fa5a5eb",
   "metadata": {},
   "source": [
    "Video: Interactive Demonstration"
   ]
  },
  {
   "cell_type": "markdown",
   "id": "5cb91167-a358-4efa-a19c-a0ef61657afd",
   "metadata": {},
   "source": [
    "Click here to launch your first Jupyter notebook and follow along with the demonstration:\n",
    "\n",
    "[Launch My First Notebook](https://mybinder.org/v2/gh/callysto/online-courses/master?filepath=CallystoAndComputationalThinking%2FFirst-Notebook.ipynb)\n",
    "\n",
    "### Knowledge Check\n",
    "\n",
    "The following exercise is a series of multiple choice questions to help you assess what you just learned in the Unit 2 Demonstration interactive and prepare you for the next activity. If you get stuck or have a question, go back to the previous activity. \n",
    "\n",
    "*Screenshot of the menu options at the top of a Jupyter notebook. Use this as a reference for the following multiple choice questions.*\n",
    "\n",
    "<p align=\"center\" width=\"100%\">\n",
    "    <img width=\"100%\" src=\"../_images/M3_Unit2 SS.jpeg\">\n",
    "</p>"
   ]
  },
  {
   "cell_type": "markdown",
   "id": "8459edad-25cf-4946-91d2-7555de438833",
   "metadata": {},
   "source": [
    "Survey of Multiple Choice Questions regarding Module 3 Unit 2"
   ]
  },
  {
   "cell_type": "markdown",
   "id": "731f6b9f-1411-4416-9f26-a5a37e8a4a70",
   "metadata": {},
   "source": [
    "### Guided Activity \n",
    "\n",
    "Now it is your turn to get hands-on experience with the Jupyter notebook. This is your first Guided Activity, use the checklists to keep track of progress and if you get stuck, click on the Watch Tutorial button to get help. \n",
    "\n",
    "**If you don't already have your Jupyter notebook open yet, click here to open it:**\n",
    "\n",
    "[Launch My First Notebook](https://mybinder.org/v2/gh/callysto/online-courses/master?filepath=CallystoAndComputationalThinking%2FFirst-Notebook.ipynb) "
   ]
  },
  {
   "cell_type": "markdown",
   "id": "9cdd473b-edc2-4a05-8e9b-b21e8abceda0",
   "metadata": {},
   "source": [
    "Guided Activity Video"
   ]
  },
  {
   "cell_type": "markdown",
   "id": "d55e408c-db2a-42bb-9426-fd5cf38946a4",
   "metadata": {},
   "source": [
    "[![Callysto.ca License](https://github.com/callysto/curriculum-notebooks/blob/master/callysto-notebook-banner-bottom.jpg?raw=true)](https://github.com/callysto/curriculum-notebooks/blob/master/LICENSE.md)"
   ]
  }
 ],
 "metadata": {
  "kernelspec": {
   "display_name": "Python 3 (ipykernel)",
   "language": "python",
   "name": "python3"
  },
  "language_info": {
   "codemirror_mode": {
    "name": "ipython",
    "version": 3
   },
   "file_extension": ".py",
   "mimetype": "text/x-python",
   "name": "python",
   "nbconvert_exporter": "python",
   "pygments_lexer": "ipython3",
   "version": "3.9.12"
  }
 },
 "nbformat": 4,
 "nbformat_minor": 5
}
