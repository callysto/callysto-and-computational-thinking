{
 "cells": [
  {
   "cell_type": "markdown",
   "id": "57f03a22-aedd-4fdd-ae79-af75722a3dd0",
   "metadata": {},
   "source": [
    "![Callysto.ca Banner](https://github.com/callysto/curriculum-notebooks/blob/master/callysto-notebook-banner-top.jpg?raw=true)"
   ]
  },
  {
   "cell_type": "markdown",
   "id": "9a711085-097f-460b-b501-b591f2bbc416",
   "metadata": {},
   "source": [
    "# Module 3 Unit 2 - Learning Outcomes\n",
    "\n",
    "By the end of this unit, you will be able to\n",
    "* Open and read a Jupyter notebook\n",
    "* Look at cells in a notebook, move a cell, create a cell, delete a cell\n",
    "* Run a cell, to make it do something\n",
    "\n",
    "### Introduction Video "
   ]
  },
  {
   "cell_type": "code",
   "execution_count": null,
   "id": "aa38e8f7-2d86-4164-8ad0-cc0f5b4b4fbc",
   "metadata": {},
   "outputs": [],
   "source": [
    "from IPython.display import YouTubeVideo\n",
    "YouTubeVideo('BTEvEilv4co')"
   ]
  },
  {
   "cell_type": "markdown",
   "id": "5eba6f21-df37-4e18-b815-46851b2955a0",
   "metadata": {
    "jp-MarkdownHeadingCollapsed": true,
    "tags": []
   },
   "source": [
    "### Module 3 Unit 1 survey"
   ]
  },
  {
   "cell_type": "markdown",
   "id": "d168d930-fe28-46f8-ac3c-6ab77ef0147b",
   "metadata": {
    "jp-MarkdownHeadingCollapsed": true,
    "tags": []
   },
   "source": [
    "### What are Jupyter notebooks?\n",
    "Callysto Interviews"
   ]
  },
  {
   "cell_type": "code",
   "execution_count": null,
   "id": "701ab283-63dc-4789-87eb-ccd7eb07f65a",
   "metadata": {},
   "outputs": [],
   "source": [
    "from IPython.display import YouTubeVideo\n",
    "YouTubeVideo('w64oF5HXyqI')"
   ]
  },
  {
   "cell_type": "markdown",
   "id": "d55e408c-db2a-42bb-9426-fd5cf38946a4",
   "metadata": {},
   "source": [
    "[![Callysto.ca License](https://github.com/callysto/curriculum-notebooks/blob/master/callysto-notebook-banner-bottom.jpg?raw=true)](https://github.com/callysto/curriculum-notebooks/blob/master/LICENSE.md)"
   ]
  }
 ],
 "metadata": {
  "kernelspec": {
   "display_name": "Python 3 (ipykernel)",
   "language": "python",
   "name": "python3"
  },
  "language_info": {
   "codemirror_mode": {
    "name": "ipython",
    "version": 3
   },
   "file_extension": ".py",
   "mimetype": "text/x-python",
   "name": "python",
   "nbconvert_exporter": "python",
   "pygments_lexer": "ipython3",
   "version": "3.9.12"
  }
 },
 "nbformat": 4,
 "nbformat_minor": 5
}
