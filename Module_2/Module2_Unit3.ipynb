{
 "cells": [
  {
   "cell_type": "markdown",
   "id": "57f03a22-aedd-4fdd-ae79-af75722a3dd0",
   "metadata": {},
   "source": [
    "![Callysto.ca Banner](https://github.com/callysto/curriculum-notebooks/blob/master/callysto-notebook-banner-top.jpg?raw=true)"
   ]
  },
  {
   "cell_type": "markdown",
   "id": "9a711085-097f-460b-b501-b591f2bbc416",
   "metadata": {},
   "source": [
    "# Module 2 Unit 3 - Algorithms and Software\n",
    "\n",
    "## Unit Learning Outcomes\n",
    "\n",
    "By the end of this unit, you will be able to\n",
    "* Identify the difference between an algorithm and a piece of software\n",
    "\n",
    "\n",
    "### Cooking with Code\n",
    "\n",
    "If you can think of a cook as a **computer**, the recipe for a cake is the **algorithm**, and the written-down version of the recipe is the **software** that the cook will follow. \n",
    "\n",
    "![Cook](../_images/cook.png)\n",
    "\n",
    "\n",
    "Notice that the written recipe **(software)** must be written in a language the cook can understand. So, an English cook should have the recipe written in English; a French cook would need a recipe written in French. Or one cook might need instructions with metric units (e.g. millilitres) while another might need imperial (ounces and cups).\n",
    "\n",
    "The level of detail in the recipe (software) also depends on the cook. For instance, a recipe for gumbo often says “Start with a roux.” For an experienced cook, this instruction is clear. For a newbie, the recipe should be more detailed, explaining how to make a roux. (It involves flour, butter, and a hot frying pan.)\n",
    "\n",
    "This is also true with software for a computer. Some computer languages have to explain every step in great detail (e.g. Fortran), other languages can express complex algorithms in a simple word or command (e.g. Python).\n",
    "\n",
    "### Activity\n",
    "\n",
    "![Cupcake](../_images/cupcake.jpg)\n",
    "\n",
    "\n",
    "- If you download a recipe in French, and translate into English (with Google Translate, say), is the recipe the same? Has the recipe changed in any way? Can the recipe still be followed?\n",
    "\n",
    "*Note: The equivalent is to think about translating software to a different computer language. Does it remain the same or does it change?* \n",
    "\n",
    "- The algorithm is the steps, the software is the steps written down and saved as a computer file. Can you think of other sets of instructions, where there are two aspects to it? The idea of the steps, then the formal listing or written version of the steps?"
   ]
  },
  {
   "cell_type": "markdown",
   "id": "d55e408c-db2a-42bb-9426-fd5cf38946a4",
   "metadata": {},
   "source": [
    "[![Callysto.ca License](https://github.com/callysto/curriculum-notebooks/blob/master/callysto-notebook-banner-bottom.jpg?raw=true)](https://github.com/callysto/curriculum-notebooks/blob/master/LICENSE.md)"
   ]
  }
 ],
 "metadata": {
  "kernelspec": {
   "display_name": "Python 3 (ipykernel)",
   "language": "python",
   "name": "python3"
  },
  "language_info": {
   "codemirror_mode": {
    "name": "ipython",
    "version": 3
   },
   "file_extension": ".py",
   "mimetype": "text/x-python",
   "name": "python",
   "nbconvert_exporter": "python",
   "pygments_lexer": "ipython3",
   "version": "3.9.12"
  }
 },
 "nbformat": 4,
 "nbformat_minor": 5
}
