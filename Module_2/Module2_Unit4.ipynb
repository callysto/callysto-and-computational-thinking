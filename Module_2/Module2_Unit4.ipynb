{
 "cells": [
  {
   "cell_type": "markdown",
   "id": "57f03a22-aedd-4fdd-ae79-af75722a3dd0",
   "metadata": {},
   "source": [
    "![Callysto.ca Banner](https://github.com/callysto/curriculum-notebooks/blob/master/callysto-notebook-banner-top.jpg?raw=true)"
   ]
  },
  {
   "cell_type": "markdown",
   "id": "9a711085-097f-460b-b501-b591f2bbc416",
   "metadata": {},
   "source": [
    "# Module 2 Unit 4 - Algorithms and Hardware\n",
    "\n",
    "## Unit Learning Objectives\n",
    "\n",
    "By the end of this unit, you will be able to\n",
    "* Distinguish between software and hardware\n",
    "\n",
    "\n",
    "### Cooking with Code\n",
    "\n",
    "In a way, the cook who follows a recipe is the hardware that runs the algorithm. Without the cook, nothing happens. Same thing with the computer hardware. Without the computer (with its keyboard and screen, its memory, and processor), nothing would happen. \n",
    "\n",
    "![Computer Hardware](../_images/comphardware.jpg)\n",
    "\n",
    "The input/output devices\n",
    "> Keyboard, monitor, microphone, camera, etc.\n",
    "\n",
    "The Memory\n",
    ">Stores data: numbers, words, pictures, and code\n",
    "\n",
    "Central Processing Unit (CPU) \n",
    ">Follows those instructions in memory\n",
    "\n",
    "The Arithmetic Unit\n",
    ">Knows how to “do math” on numbers.\n",
    "\n",
    "The CPU is the part that does all the work. It is at the center of all the activity in the computer. It follows the instructions in memory that might tell it to take numbers from the keyboard, display them on the screen, move them to memory, or do some math on them in the arithmetic unit. \n",
    "\n",
    "So the algorithm is a list of instructions. The software are these instructions put into a language the computer can understand. This software is put into the computer memory, so the hardware (CPU) can follow those instructions and actually do something. \n",
    "\n",
    "### Activity\n",
    "\n",
    "- If you think of the cook as “a computer,” her eyes and ears are input devices - like a computer camera and microphone.  Her voice and hands are output devices -- like the computer speaker, and maybe a robot arm. What is the cook’s memory unit? What is her “central processing unit?”\n",
    "- Is it possible that the cook’s brain has one part dedicated to memory, another part dedicated to following instructions?\n",
    "- A computer (or cook) might fail to complete a task because they miss a step in the algorithm. This could be because of an error in the software, or an error in the hardware. Can you describe what could cause these two types of errors?"
   ]
  },
  {
   "cell_type": "markdown",
   "id": "d55e408c-db2a-42bb-9426-fd5cf38946a4",
   "metadata": {},
   "source": [
    "[![Callysto.ca License](https://github.com/callysto/curriculum-notebooks/blob/master/callysto-notebook-banner-bottom.jpg?raw=true)](https://github.com/callysto/curriculum-notebooks/blob/master/LICENSE.md)"
   ]
  }
 ],
 "metadata": {
  "kernelspec": {
   "display_name": "Python 3 (ipykernel)",
   "language": "python",
   "name": "python3"
  },
  "language_info": {
   "codemirror_mode": {
    "name": "ipython",
    "version": 3
   },
   "file_extension": ".py",
   "mimetype": "text/x-python",
   "name": "python",
   "nbconvert_exporter": "python",
   "pygments_lexer": "ipython3",
   "version": "3.9.12"
  }
 },
 "nbformat": 4,
 "nbformat_minor": 5
}
