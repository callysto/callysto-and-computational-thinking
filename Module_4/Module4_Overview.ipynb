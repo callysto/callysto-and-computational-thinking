{
 "cells": [
  {
   "cell_type": "markdown",
   "id": "57f03a22-aedd-4fdd-ae79-af75722a3dd0",
   "metadata": {},
   "source": [
    "![Callysto.ca Banner](https://github.com/callysto/curriculum-notebooks/blob/master/callysto-notebook-banner-top.jpg?raw=true)"
   ]
  },
  {
   "cell_type": "markdown",
   "id": "9a711085-097f-460b-b501-b591f2bbc416",
   "metadata": {},
   "source": [
    "# Module 4 Learning Outcomes\n",
    "\n",
    "By the end of this unit, you will be able to\n",
    "* Understand why computational thinking is important in this digital world\n",
    "\n",
    "# Why is it important for K-12 students to learn computational thinking?\n",
    "\n",
    "As educators we are in a position to provide students with skills and core competencies to thrive. The development of computational thinking skills has become increasingly important in this digitally dependent world where the talent to solve problems efficiently (with or without computers) is highly sought after. As well, computational thinking problem-solving approaches are highly transferable and can be applied in all subject areas. Not all computational thinking approaches need to be applied to solve every problem, rather they can be thought of as a toolkit that can be applied when appropriate.\n",
    "\n",
    "Teaching computational thinking to students is a fundamental step on their journey to becoming lifelong learners and, eventually, setting them up for success in the modern workforce. Computational thinking can be applied to nearly any job and any sector. The ability to solve problems, critically analyze information, communicate and think creatively, and innovate beyond the current method of doing things are invaluable skills in our competitive and ever-changing world.\n",
    "\n",
    "TEDx video with Brian Aspinall\n",
    "We recommend watching up to 4:16."
   ]
  },
  {
   "cell_type": "code",
   "execution_count": null,
   "id": "1f00ab6c-d4ef-4302-8666-6882a02b76c7",
   "metadata": {},
   "outputs": [],
   "source": [
    "from IPython.display import YouTubeVideo\n",
    "YouTubeVideo('UyxfPnO5lgk')"
   ]
  },
  {
   "cell_type": "markdown",
   "id": "170649f7-9a47-45ec-aebd-6fe042dd8ba5",
   "metadata": {},
   "source": []
  },
  {
   "cell_type": "markdown",
   "id": "d55e408c-db2a-42bb-9426-fd5cf38946a4",
   "metadata": {},
   "source": [
    "[![Callysto.ca License](https://github.com/callysto/curriculum-notebooks/blob/master/callysto-notebook-banner-bottom.jpg?raw=true)](https://github.com/callysto/curriculum-notebooks/blob/master/LICENSE.md)"
   ]
  }
 ],
 "metadata": {
  "kernelspec": {
   "display_name": "Python 3 (ipykernel)",
   "language": "python",
   "name": "python3"
  },
  "language_info": {
   "codemirror_mode": {
    "name": "ipython",
    "version": 3
   },
   "file_extension": ".py",
   "mimetype": "text/x-python",
   "name": "python",
   "nbconvert_exporter": "python",
   "pygments_lexer": "ipython3",
   "version": "3.9.12"
  }
 },
 "nbformat": 4,
 "nbformat_minor": 5
}
