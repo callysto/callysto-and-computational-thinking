{
 "cells": [
  {
   "cell_type": "markdown",
   "id": "57f03a22-aedd-4fdd-ae79-af75722a3dd0",
   "metadata": {},
   "source": [
    "![Callysto.ca Banner](https://github.com/callysto/curriculum-notebooks/blob/master/callysto-notebook-banner-top.jpg?raw=true)"
   ]
  },
  {
   "cell_type": "markdown",
   "id": "9a711085-097f-460b-b501-b591f2bbc416",
   "metadata": {},
   "source": [
    "# Module 4 Unit 4 - Learning Outcomes\n",
    "\n",
    "By the end of this unit, you will be able to\n",
    "* Select an existing Callysto notebook for use in your specific class and modify it \n",
    "\n",
    "# Accessing Callysto's Curriculum-Based Notebooks\n",
    "\n",
    "### Using Callysto's Curriculum-Based Notebooks\n",
    "The Callysto project maintains a repository of notebooks for use in K-12 schools in Canada. Many are ready for use as-is in the classroom, others can be used as templates for teachers to use and modify for their own classes. \n",
    "\n",
    "These curriculum-based notebooks help demonstrate how easy notebooks are to use and the different ways information can be presented, including with interactive and computing-based exercises."
   ]
  },
  {
   "cell_type": "code",
   "execution_count": null,
   "id": "1f00ab6c-d4ef-4302-8666-6882a02b76c7",
   "metadata": {},
   "outputs": [],
   "source": [
    "from IPython.display import YouTubeVideo\n",
    "YouTubeVideo('7yDmGnA8Hw0')"
   ]
  },
  {
   "cell_type": "markdown",
   "id": "170649f7-9a47-45ec-aebd-6fe042dd8ba5",
   "metadata": {},
   "source": [
    "### 🗣️ Post-video Discussion\n",
    "\n",
    "Recall, the basic idea is that there are four people who have to get across the bridge -- but only two at a time (carrying a lantern) and in a limited time -- or else the zombies eat them. The crossings may involve some people going over the bridge, and then crossing back to help the others cross.\n",
    "\n",
    "The problem is to find a method that gets all four people safely across the bridge in the limited time, knowing that some people cross more slowly than others. \n",
    "\n",
    "How do we solve it? It is not good enough to say that a solution exists, we have to actually state what the solution is. \n",
    "\n",
    "What does a solution look like? Well, it will be a list of who crosses the bridge (or comes back) and in what order. \n",
    "\n",
    "You might have a list like this:\n",
    "- Prof and Janitor cross\n",
    "- Janitor comes back\n",
    "- Janitor and Lab Assistant cross\n",
    "- Lab Assistant  crosses back\n",
    "- Lab Assistant and “me” cross\n",
    "\n",
    "\n",
    "We need an algorithm that finds a solution for us. One algorithm would be to try all possible ordering of who crosses and when, subject to the rules. Add up the time for each ordering, and find one that is less than the allotted time. \n",
    "\n",
    "A better algorithm might be to notice that we need to minimize the crossing by the slow people. So you might want to only consider orderings where the Janitor and Prof go across together, but do not ever go back. \n",
    "\n",
    "For the computer to “read” the algorithm, you might want to write the orderings symbolically, rather than as English sentences. This could simplify the code.\n",
    "\n",
    "You might also look for patterns. For instance, in the example list, it looks like people cross forward on the odd numbered steps, and cross back on the even numbered steps. Is that always true? Does that reduce the number of possible lists of crossings?\n",
    "\n",
    "Is there ever a case where 2 people would cross in the backwards direction? If true, that also limits the possible lists. \n",
    "\n",
    "<p align=\"center\" width=\"100%\">\n",
    "    <img width=\"50%\" src=\"../_images/bridge.jpg\">\n",
    "</p>\n",
    "\n",
    "\n",
    "### Activity\n",
    "\n",
    "- Can you list all possible options for crossing that get all 4 people across? How many are there?\n",
    "- Of these listings, which one takes the least time?\n",
    "- Is there one that takes a maximum amount of time?\n",
    "\n",
    "It would be great to have a tool that lets you and your students explore these computational ideas. This is the motivation behind the Callysto project -- to get those tools in your hands. In the next module, you will learn about Jupyter notebooks. These are online documents that let you combine your lecture notes with pictures, graphics, and computer code, so your students can learn how to connect ideas to code. It is a powerful way to learn computational thinking. \n",
    "\n",
    "*More examples* \n",
    ">You can visit [TED-Ed Riddles on YouTube](https://www.ted.com/search?q=ted+ed+riddles).\n"
   ]
  },
  {
   "cell_type": "markdown",
   "id": "d55e408c-db2a-42bb-9426-fd5cf38946a4",
   "metadata": {},
   "source": [
    "[![Callysto.ca License](https://github.com/callysto/curriculum-notebooks/blob/master/callysto-notebook-banner-bottom.jpg?raw=true)](https://github.com/callysto/curriculum-notebooks/blob/master/LICENSE.md)"
   ]
  }
 ],
 "metadata": {
  "kernelspec": {
   "display_name": "Python 3 (ipykernel)",
   "language": "python",
   "name": "python3"
  },
  "language_info": {
   "codemirror_mode": {
    "name": "ipython",
    "version": 3
   },
   "file_extension": ".py",
   "mimetype": "text/x-python",
   "name": "python",
   "nbconvert_exporter": "python",
   "pygments_lexer": "ipython3",
   "version": "3.9.12"
  }
 },
 "nbformat": 4,
 "nbformat_minor": 5
}
