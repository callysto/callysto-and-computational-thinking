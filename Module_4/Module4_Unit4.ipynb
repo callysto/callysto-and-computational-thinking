{
 "cells": [
  {
   "cell_type": "markdown",
   "id": "57f03a22-aedd-4fdd-ae79-af75722a3dd0",
   "metadata": {},
   "source": [
    "![Callysto.ca Banner](https://github.com/callysto/curriculum-notebooks/blob/master/callysto-notebook-banner-top.jpg?raw=true)"
   ]
  },
  {
   "cell_type": "markdown",
   "id": "9a711085-097f-460b-b501-b591f2bbc416",
   "metadata": {},
   "source": [
    "# Module 4 Unit 4 - Learning Outcomes\n",
    "\n",
    "By the end of this unit, you will be able to\n",
    "* Select an existing Callysto notebook for use in your specific class and modify it \n",
    "\n",
    "# Accessing Callysto's Curriculum-Based Notebooks\n",
    "\n",
    "### Using Callysto's Curriculum-Based Notebooks\n",
    "The Callysto project maintains a repository of notebooks for use in K-12 schools in Canada. Many are ready for use as-is in the classroom, others can be used as templates for teachers to use and modify for their own classes. \n",
    "\n",
    "These curriculum-based notebooks help demonstrate how easy notebooks are to use and the different ways information can be presented, including with interactive and computing-based exercises.\n",
    "\n",
    "<p align=\"center\" width=\"100%\">\n",
    "    <img width=\"70%\" src=\"../_images/M4_U4_image.png\">\n",
    "</p>\n",
    "\n",
    "To see the full list of notebooks curated by Callysto, visit  https://callysto.ca \n",
    "\n",
    "Selecting any notebook from this website will load it directly into your Callysto account. For example, clicking on the Bubonic Plague notebook will load in the notebook onto your Callysto hub.\n",
    "\n",
    "A freshly-loaded notebook looks like this:\n",
    "\n",
    "<p align=\"center\" width=\"100%\">\n",
    "    <img width=\"70%\" src=\"../_images/M4_U4_image2.png\">\n",
    "</p>\n",
    "\n",
    "To view the notebook with all its features, fully populated, go to the toolbar at the top of the page and click the **Run All** button, which looks like a double arrow. \n",
    "\n",
    "<p align=\"center\" width=\"100%\">\n",
    "    <img width=\"70%\" src=\"../_images/M4_U4_image3.png\">\n",
    "</p>\n",
    "\n",
    "The Bubonic Plague notebook will now look like this: \n",
    "\n",
    "\n",
    "<p align=\"center\" width=\"100%\">\n",
    "    <img width=\"70%\" src=\"../_images/M4_U4_image4.png\">\n",
    "</p>\n",
    "\n",
    "Now that the notebook has been added to your hub, you can edit it yourself as you learned to do with other notebooks and modify it freely to make the content more suitable for your class. Any changes you make will only affect your copy of the document — it won’t change the master version stored in the Callysto library. "
   ]
  },
  {
   "cell_type": "markdown",
   "id": "d55e408c-db2a-42bb-9426-fd5cf38946a4",
   "metadata": {},
   "source": [
    "[![Callysto.ca License](https://github.com/callysto/curriculum-notebooks/blob/master/callysto-notebook-banner-bottom.jpg?raw=true)](https://github.com/callysto/curriculum-notebooks/blob/master/LICENSE.md)"
   ]
  }
 ],
 "metadata": {
  "kernelspec": {
   "display_name": "Python 3 (ipykernel)",
   "language": "python",
   "name": "python3"
  },
  "language_info": {
   "codemirror_mode": {
    "name": "ipython",
    "version": 3
   },
   "file_extension": ".py",
   "mimetype": "text/x-python",
   "name": "python",
   "nbconvert_exporter": "python",
   "pygments_lexer": "ipython3",
   "version": "3.9.12"
  }
 },
 "nbformat": 4,
 "nbformat_minor": 5
}
