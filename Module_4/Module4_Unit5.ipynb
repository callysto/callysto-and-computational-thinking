{
 "cells": [
  {
   "cell_type": "markdown",
   "id": "b7e82628-a0e3-4e4a-8b95-1ade8881e894",
   "metadata": {},
   "source": [
    "![Callysto.ca Banner](https://github.com/callysto/curriculum-notebooks/blob/master/callysto-notebook-banner-top.jpg?raw=true)"
   ]
  },
  {
   "cell_type": "markdown",
   "id": "7f8c7fff-538e-4e4f-87d1-d1c871882404",
   "metadata": {},
   "source": [
    "# Module 4 Unit 5 - Finding Other Notebooks Online\n",
    "\n",
    "## Unit Learning Objectives\n",
    "\n",
    "By the end of this unit, you will be able to\n",
    "* Seek out new notebooks from other sources\n",
    "\n",
    "## Finding Other Notebooks Online\n",
    "\n",
    "There is a whole wide world of Jupyter notebooks available online. Searching for “Jupyter notebook examples” in any search engine will yield a large number of results, including\n",
    "\n",
    "* [2014 World Cup Analysis](http://nbviewer.ipython.org/github/rjtavares/football-crunching/blob/master/notebooks/an%20exploratory%20data%20analysis%20of%20the%20world%20cup%20final.ipynb)\n",
    "* [How New York Times writes about Men and Women](http://nbviewer.ipython.org/gist/5105037)\n",
    "* [Study of gender in Marvel Comics (Spanish)](http://nbviewer.ipython.org/github/mshopper/aurora/blob/master/Aurora.ipynb)\n",
    "* [Guns and Homicides, by Country](https://nbviewer.jupyter.org/gist/minrk/4358066/Gun%20Data.ipynb)\n",
    "\n",
    "These particular examples all come from an online collection called [Jupyter Gallery]. This collection isn’t part of the Callysto project, however, it’s an excellent demonstration of the wide variety of notebooks out there.\n",
    "\n",
    "The notebooks in Jupyter Gallery are rendered using a tool called **nbviewer,** which lets you view, but not run or edit the notebook, and won’t automatically load it into your Callysto account. \n",
    "\n",
    "The FAQ on nbviewer explains how to download a copy of the notebook yourself, which you can then place in your Callysto account. It’s a simple process, but we recommend reading the FAQ anyway. \n",
    "\n",
    "### Other Online Resources\n",
    "\n",
    "Use the following methods to find some Jupyter Notebooks you could use in class:\n",
    "\n",
    "* Explore the [Jupyter Gallery] to find a notebook that is interesting to you. Click through the link and read all about it.\n",
    "* Some nicely-designed notebooks are available at the [Plotly site](https://plot.ly/ipython-notebooks/). Click through the link Ploty to see some great graphics and data plots. \n",
    "* Another source of attractive notebooks are available at the [Bokeh site](https://bokeh.pydata.org/en/latest/). Try these out too.\n",
    "* Do a Google search for more Jupyter notebook that you could use in class.\n",
    "\n",
    "For each of the above methods, download a notebook file. Look for instructions or a FAQ on the hosting site for information on how it can be downloaded.\n",
    "\n",
    "### External Activity: Adding a New Notebook to your Callysto Hub\n",
    "\n",
    "Once you have located a notebook you’d like to use, it’s a good idea to upload it to your Callysto Hub. This way, it is in an easy-to-find place when you are ready to use or adapt it.\n",
    "\n",
    "To begin, make sure the Callysto hub is open and you are signed in. \n",
    "\n",
    "There are 2 methods for uploading a Jupyter file to the Callysto Hub.\n",
    "\n",
    "**Method 1: Drag and Drop**\n",
    "\n",
    "1. Locate the new notebook on your computer.  It is likely in the downloads folder.\n",
    "1. Arrange the windows on your computer so that you can see the folder containing the notebook and the browser tab that is running the Callysto Hub.\n",
    "1. Drag the Notebook file from the folder onto the Callysto Hub. Make sure to drag it onto the grey bar at the top or over top of any of the rows of files.  Dragging it to the white space at the bottom of the screen does not work.\n",
    "1. Once it has been recognized, you will see the notebook appear at the top of the list with the options to either upload or cancel. You can also rename the file before uploading it if you want. Click the Upload button.\n",
    "\n",
    "**Method 2: Upload**\n",
    "\n",
    "1. Click Upload near the top right corner of the screen.\n",
    "1. Locate the notebook file on your computer. Select it and click Open.\n",
    "1. Once it has been recognized, you will see it appear at the top of the list with the options to either upload or cancel. You can also rename the file before uploading it if you want. Click the Upload button."
   ]
  },
  {
   "cell_type": "markdown",
   "id": "21450e47-c695-4460-bf87-92c5cafd57fe",
   "metadata": {},
   "source": [
    "### Knowlege Check \n",
    "\n",
    "### Callysto FAQ\n"
   ]
  },
  {
   "cell_type": "markdown",
   "id": "a5d47d66-d953-4d78-8937-25a6cc067234",
   "metadata": {},
   "source": [
    "[![Callysto.ca License](https://github.com/callysto/curriculum-notebooks/blob/master/callysto-notebook-banner-bottom.jpg?raw=true)](https://github.com/callysto/curriculum-notebooks/blob/master/LICENSE.md)"
   ]
  }
 ],
 "metadata": {
  "kernelspec": {
   "display_name": "Python 3 (ipykernel)",
   "language": "python",
   "name": "python3"
  },
  "language_info": {
   "codemirror_mode": {
    "name": "ipython",
    "version": 3
   },
   "file_extension": ".py",
   "mimetype": "text/x-python",
   "name": "python",
   "nbconvert_exporter": "python",
   "pygments_lexer": "ipython3",
   "version": "3.11.6"
  }
 },
 "nbformat": 4,
 "nbformat_minor": 5
}
