{
 "cells": [
  {
   "cell_type": "markdown",
   "id": "57f03a22-aedd-4fdd-ae79-af75722a3dd0",
   "metadata": {},
   "source": [
    "![Callysto.ca Banner](https://github.com/callysto/curriculum-notebooks/blob/master/callysto-notebook-banner-top.jpg?raw=true)"
   ]
  },
  {
   "cell_type": "markdown",
   "id": "9a711085-097f-460b-b501-b591f2bbc416",
   "metadata": {},
   "source": [
    "# Module 4 Unit 3 - Creating Your Own Notebooks\n",
    "\n",
    "## Unit Learning Objectives\n",
    "\n",
    "By the end of this unit, you will be able to\n",
    "* Create a new Jupyter notebook within your Callysto account\n",
    "\n",
    "\n",
    "### Opening and Managing Notebooks\n",
    "Under the **Files** tab of your Callysto hub you can see a full list of the files in your account. To open a file, just click on its **name.**\n",
    "\n",
    "For example, click on the file named **getting-started.ipynb**. If you don’t see it, check that you’re on the Files tab of your hub. \n",
    "\n",
    "When the file opens, you should see it as a document in your web browser.  \n",
    "\n",
    "![M4_U3 image2](../_images/M4_U3_image.png)\n",
    "\n",
    "\n",
    "This is your first notebook in Callysto! This notebook is live — you can explore and interact with it just as you did in earlier Jupyter notebook lessons. Try playing around with it as you did with the notebooks in Module 3.  \n",
    "\n",
    "In this notebook, there are several links to other notebooks highlighted in blue. Clicking on the text will open them as new tabs in your browser. Try them out and make sure you understand how to get back to your original notebook.\n",
    "\n",
    "\n",
    "### Downloading Notebooks\n",
    "\n",
    "Downloading a file can be helpful for printing, sharing, or embedding into other documents on your computer.\n",
    "\n",
    "To download a notebook, first open it in your browser. Next, open the **File** menu located in the top left of the document and go down to **Download as.** \n",
    "\n",
    "![M4_U3 image2](../_images/M4_U3_image2.png)\n",
    "\n",
    "\n",
    "You will see a long list of options. You could try any of them, but **Notebook (.ipynb)** is the most useful for sharing a working copy of the notebook with someone else.\n",
    "\n",
    "**PDF via LaTeX** is very useful to obtain a printable PDF file, that can be viewed by Adobe Acrobat Reader or printed on your local printer.\n",
    "\n",
    "**HTML (.html)** is useful as a file that can be saved on your own computer and viewed with an Internet browser.\n",
    "\n",
    "### Managing Notebooks\n",
    "\n",
    "The same File menu in the notebook can be used to Save changes to the file, Rename the file, Copy the file to generate a duplicate, and more. Explore the File menu in your starting notebook to see what other options are available.\n",
    "\n",
    "### Creating your Own Notebooks\n",
    "\n",
    "To create a new notebook, go to your Callysto hub. If you have multiple Callysto tabs open in your browser, your hub will be the one titled **Home.**\n",
    "\n",
    "On the right side of the page, click the **New** button. Then, under the **Notebook** section of the drop-down menu, select **Python 3.**\n",
    "\n",
    "![M4_U3 image3](../_images/M4_U3_image3.png)\n",
    "\n",
    "\n",
    "This will generate an interactive Python Notebook which will appear in your list of files with the name **Untitled.ipynb.** \n",
    "\n",
    "The Callysto server will automatically open the notebook in a new tab, which will look like this:\n",
    "\n",
    "![M4_U3 image4](../_images/M4_U3_image4.png)\n",
    "\n",
    "\n",
    "You can rename your new notebook file by clicking on the title, **Untitled**, at the top of the page.\n",
    "\n",
    "### Adding Content\n",
    "\n",
    "As we explored in previous lessons, notebooks can support a wide variety of content. Visit the links below for refreshers on adding the kinds of content already covered in this course.\n",
    "\n",
    "* Creating and editing cells\n",
    "* Adding and formatting text using Markdown\n",
    "\n",
    "### Knowledge Check\n",
    "\n",
    "You can download Jupyter Notebooks in a variety of file formats. Match the file format of a downloaded Notebook with a purpose for choosing that download option."
   ]
  },
  {
   "cell_type": "markdown",
   "id": "d55e408c-db2a-42bb-9426-fd5cf38946a4",
   "metadata": {},
   "source": [
    "[![Callysto.ca License](https://github.com/callysto/curriculum-notebooks/blob/master/callysto-notebook-banner-bottom.jpg?raw=true)](https://github.com/callysto/curriculum-notebooks/blob/master/LICENSE.md)"
   ]
  }
 ],
 "metadata": {
  "kernelspec": {
   "display_name": "Python 3 (ipykernel)",
   "language": "python",
   "name": "python3"
  },
  "language_info": {
   "codemirror_mode": {
    "name": "ipython",
    "version": 3
   },
   "file_extension": ".py",
   "mimetype": "text/x-python",
   "name": "python",
   "nbconvert_exporter": "python",
   "pygments_lexer": "ipython3",
   "version": "3.9.12"
  }
 },
 "nbformat": 4,
 "nbformat_minor": 5
}
