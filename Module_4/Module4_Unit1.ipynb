{
 "cells": [
  {
   "cell_type": "markdown",
   "id": "57f03a22-aedd-4fdd-ae79-af75722a3dd0",
   "metadata": {},
   "source": [
    "![Callysto.ca Banner](https://github.com/callysto/curriculum-notebooks/blob/master/callysto-notebook-banner-top.jpg?raw=true)"
   ]
  },
  {
   "cell_type": "markdown",
   "id": "9a711085-097f-460b-b501-b591f2bbc416",
   "metadata": {},
   "source": [
    "# Module 4 Unit 1 - The Components of Callysto\n",
    "\n",
    "## Unit Learning Objectives\n",
    "\n",
    "By the end of this unit, you will be able to\n",
    "- An online server with accounts, to store and operate your notebooks\n",
    "- A curated collection of curriculum notebooks for use in K-12 classes\n",
    "- A source for training on how to use notebooks in your class\n",
    "\n",
    "### Online Service \n",
    "\n",
    "The Callysto **online service** is where teachers and students can open online accounts to create and store their Jupyter notebooks. If you think of notebooks as “programmable Word documents” the Callysto online service is your “computer in the cloud.” In the next unit, we will explore how to sign into your Callysto account and make documents. "
   ]
  },
  {
   "cell_type": "markdown",
   "id": "170649f7-9a47-45ec-aebd-6fe042dd8ba5",
   "metadata": {},
   "source": [
    "### Learning Module Library\n",
    "\n",
    "The second component is an **online library** of Jupyter notebooks for use in your classroom. These “learning modules” or notebooks act as interactive lesson plans or mini-textbooks for use in class, and often include graphics, animation, and live code.  They are ready-to-use and cover a wide range of topics for current curriculums.\n",
    "\n",
    "For example, the notebooks shown below demonstrate the mathematical complexity of the “butterfly effect.” The second shows details of the geology of the earth. The third shows an example of adding computational thinking to the study of Shakespeare.\n",
    "\n",
    "![M4_U1 image](../_images/M4_U1_image.jpg)\n",
    "\n",
    "![M4_U1 image2](../_images/M4_U1_image2.png)\n",
    "\n",
    "\n",
    "*Later in this module we'll explore the many Jupyter notebooks provided by Callysto*\n",
    "\n",
    "### Training Resources \n",
    "\n",
    "The final component is a collection of training resources to help teachers and students make the most of the Callysto Project. These resources include in-person workshops, as well as online videos and courseware accessible to anyone with an internet connection.\n",
    "\n",
    "Jupyter notebooks have broad applications in the classroom, the most prominent being the creation of assignments and interactive objects. Teachers can deliver self-contained assignments in which students can complete written sections, perform calculations, and submit their final work all within the same notebook. This helps teachers to follow their students’ thought processes, assess their levels of understanding, and identify potential problem areas.\n",
    "\n",
    "### 🗣️ Callysto Platform Discussion \n",
    "\n",
    "- What parts of your own courses could benefit from the addition of computational thinking activities? \n",
    "- What parts would benefit from better tools for presenting content or creating interactive elements?\n",
    "\n",
    "**Contribute to the discussion by clicking \"Add a post\"**"
   ]
  },
  {
   "cell_type": "markdown",
   "id": "d55e408c-db2a-42bb-9426-fd5cf38946a4",
   "metadata": {},
   "source": [
    "[![Callysto.ca License](https://github.com/callysto/curriculum-notebooks/blob/master/callysto-notebook-banner-bottom.jpg?raw=true)](https://github.com/callysto/curriculum-notebooks/blob/master/LICENSE.md)"
   ]
  }
 ],
 "metadata": {
  "kernelspec": {
   "display_name": "Python 3 (ipykernel)",
   "language": "python",
   "name": "python3"
  },
  "language_info": {
   "codemirror_mode": {
    "name": "ipython",
    "version": 3
   },
   "file_extension": ".py",
   "mimetype": "text/x-python",
   "name": "python",
   "nbconvert_exporter": "python",
   "pygments_lexer": "ipython3",
   "version": "3.9.12"
  }
 },
 "nbformat": 4,
 "nbformat_minor": 5
}
