{
 "cells": [
  {
   "cell_type": "markdown",
   "id": "57f03a22-aedd-4fdd-ae79-af75722a3dd0",
   "metadata": {},
   "source": [
    "![Callysto.ca Banner](https://github.com/callysto/curriculum-notebooks/blob/master/callysto-notebook-banner-top.jpg?raw=true)"
   ]
  },
  {
   "cell_type": "markdown",
   "id": "9a711085-097f-460b-b501-b591f2bbc416",
   "metadata": {},
   "source": [
    "# Module 0: Introduction\n",
    "\n",
    "## Welcome\n",
    "\n",
    "Welcome to Teaching Computational Thinking with Callysto! Over the next 7 modules, this course will teach you the skills required to use Callysto in your classroom."
   ]
  },
  {
   "cell_type": "code",
   "execution_count": null,
   "id": "1be7c763-b126-4b72-81bf-16b33566d355",
   "metadata": {},
   "outputs": [],
   "source": [
    "from IPython.display import YouTubeVideo\n",
    "YouTubeVideo('_jU5cjOVsX4')"
   ]
  },
  {
   "cell_type": "markdown",
   "id": "4f94cf45-06de-4f33-95a0-973aace4b7f0",
   "metadata": {},
   "source": [
    "Callysto is a free learning program designed to help teachers foster computational thinking and data literacy skills to their students.\n",
    "\n",
    "This course is for all teachers -- from Art and Social Sciences to Math and Physics, Callysto can be a valuable tool for teaching and learning virtually any subject!"
   ]
  },
  {
   "cell_type": "markdown",
   "id": "d55e408c-db2a-42bb-9426-fd5cf38946a4",
   "metadata": {},
   "source": [
    "[![Callysto.ca License](https://github.com/callysto/curriculum-notebooks/blob/master/callysto-notebook-banner-bottom.jpg?raw=true)](https://github.com/callysto/curriculum-notebooks/blob/master/LICENSE.md)"
   ]
  }
 ],
 "metadata": {
  "kernelspec": {
   "display_name": "Python 3 (ipykernel)",
   "language": "python",
   "name": "python3"
  },
  "language_info": {
   "codemirror_mode": {
    "name": "ipython",
    "version": 3
   },
   "file_extension": ".py",
   "mimetype": "text/x-python",
   "name": "python",
   "nbconvert_exporter": "python",
   "pygments_lexer": "ipython3",
   "version": "3.11.6"
  }
 },
 "nbformat": 4,
 "nbformat_minor": 5
}
