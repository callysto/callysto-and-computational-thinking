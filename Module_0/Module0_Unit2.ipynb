{
 "cells": [
  {
   "cell_type": "markdown",
   "id": "57f03a22-aedd-4fdd-ae79-af75722a3dd0",
   "metadata": {},
   "source": [
    "![Callysto.ca Banner](https://github.com/callysto/curriculum-notebooks/blob/master/callysto-notebook-banner-top.jpg?raw=true)"
   ]
  },
  {
   "cell_type": "markdown",
   "id": "9a711085-097f-460b-b501-b591f2bbc416",
   "metadata": {},
   "source": [
    "# Module 0 Unit 2: What is Callysto?"
   ]
  },
  {
   "cell_type": "code",
   "execution_count": null,
   "id": "1be7c763-b126-4b72-81bf-16b33566d355",
   "metadata": {},
   "outputs": [],
   "source": [
    "from IPython.display import YouTubeVideo\n",
    "YouTubeVideo('cFuizCLz8UU')"
   ]
  },
  {
   "cell_type": "markdown",
   "id": "187a2b20-56e4-4df6-8186-87fd4ec1644a",
   "metadata": {},
   "source": [
    "Callysto is a free learning and skill development tool -- think of it as an “interactive textbook.” It can be accessed from any device with a web browser and is designed to help students strengthen their computational thinking, coding, and data skills as they learn.  \n",
    "\n",
    "With Callysto, teachers and students can\n",
    "* Create and share learning modules, assignments, and reports \n",
    "* Access a wide variety of relevant open data resources\n",
    "* Analyze and present information in a variety of media formats, including videos, audio recordings, and infographics.\n",
    "* Create spaces where learners can play with live programming code and interactive graphics\n",
    "\n",
    "Callysto is curriculum-based and adaptable to a wide variety of subjects areas, with modules available in everything from Math to History. \n",
    "\n",
    "\n",
    "## About Callysto's Development\n",
    "\n",
    "Callysto was created in partnership by not-for-profit organizations Cybera and The Pacific Institute for the Mathematical Sciences (PIMS), with funding from Innovation, Science and Economic Development Canada through their CanCode program. Callysto is an open source project maintained by a dedicated group of core maintainers.\n",
    "\n",
    "## Conclusion\n",
    "\n",
    "This marks the end of Module 0. Next, let’s learn about a fundamental skill required by the digital leaders of tomorrow: **Computational Thinking**. \n",
    "\n",
    "Did you know that you don’t need a computer to use a Computational Thinking framework in your classroom? \n",
    "\n",
    "In the next Module we will learn more about Computational Thinking and its place in a learning environment. Let’s get started!"
   ]
  },
  {
   "cell_type": "markdown",
   "id": "d55e408c-db2a-42bb-9426-fd5cf38946a4",
   "metadata": {},
   "source": [
    "[![Callysto.ca License](https://github.com/callysto/curriculum-notebooks/blob/master/callysto-notebook-banner-bottom.jpg?raw=true)](https://github.com/callysto/curriculum-notebooks/blob/master/LICENSE.md)"
   ]
  }
 ],
 "metadata": {
  "kernelspec": {
   "display_name": "Python 3 (ipykernel)",
   "language": "python",
   "name": "python3"
  },
  "language_info": {
   "codemirror_mode": {
    "name": "ipython",
    "version": 3
   },
   "file_extension": ".py",
   "mimetype": "text/x-python",
   "name": "python",
   "nbconvert_exporter": "python",
   "pygments_lexer": "ipython3",
   "version": "3.11.6"
  }
 },
 "nbformat": 4,
 "nbformat_minor": 5
}
