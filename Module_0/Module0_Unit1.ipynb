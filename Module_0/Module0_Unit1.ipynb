{
 "cells": [
  {
   "cell_type": "markdown",
   "id": "57f03a22-aedd-4fdd-ae79-af75722a3dd0",
   "metadata": {},
   "source": [
    "![Callysto.ca Banner](https://github.com/callysto/curriculum-notebooks/blob/master/callysto-notebook-banner-top.jpg?raw=true)"
   ]
  },
  {
   "cell_type": "markdown",
   "id": "9a711085-097f-460b-b501-b591f2bbc416",
   "metadata": {},
   "source": [
    "# Module 0 Unit 1: Learning Outcomes\n",
    "\n",
    "This course is divided into 7 parts, which we refer to as modules. Each module will teach important skills that will help you use Callysto in a classroom setting.\n",
    "\n",
    "## Module 1 - Computational Thinking 101\n",
    "By the end of this module, you will be able to\n",
    "* Describe computational thinking\n",
    "* Describe the steps of computational thinking\n",
    "* Apply the steps of computational thinking to every day and rich problems\n",
    "* Explain the importance of learning computational thinking for K-12 students\n",
    "\n",
    "## Module 2 - Computational Thinking Through Algorithms\n",
    "By the end of this module, you will be able to\n",
    "* State the difference between an algorithm, software, and hardware\n",
    "* Explain how an algorithm turns into actions that complete some task\n",
    "\n",
    "## Module 3 - Computational Thinking and Jupyter Notebooks\n",
    "By the end of this module, you will be able to\n",
    "* Explain what a Jupyter notebook is\n",
    "* Identify various parts of a notebook and what they do\n",
    "* Launch and modify an existing notebook\n",
    "* Insert text, hyperlinks, images, YouTube videos, and math formulas into a notebook\n",
    "* Articulate how Jupyter notebooks can help as a teaching tool in the context of computational thinking\n",
    "\n",
    "## Module 4 - Programming in Jupyter Notebooks\n",
    "By the end of this module, you will be able to\n",
    "* Explain the three components of Callysto\n",
    "* Create an account on the Callysto online service and access notebooks there\n",
    "* Manage files and documents within your Callysto account\n",
    "* Create a new Jupyter notebook within your Callysto account\n",
    "* Add Jupyter notebooks to your Callysto account\n",
    "* Select an existing Callysto notebook for use in your specific class and modify it\n",
    "\n",
    "## Module 5 - Managing Your Own Notebooks in Callysto\n",
    "By the end of this module, you will be able to\n",
    "* Code the following using the Python programming language\n",
    " * Variables\n",
    " * Loops\n",
    " * If/else statements\n",
    " * Functions\n",
    " * Basic Graphing\n",
    "* Demonstrate how Markdown and Python can be used together in a Jupyter notebook\n",
    "\n",
    "## Module 6 - Data Analytics and Callysto\n",
    "By the end of this module, you will be able to\n",
    "* Explain why data analysis is important\n",
    "* Explain the steps involved in data analysis\n",
    "* Perform data analysis with Open Data\n",
    "* Work with open data in your classroom using Jupyter notebooks\n",
    "\n",
    "## Module 7 - Calling All Teachers!\n",
    "By the end of this module, you will be able to\n",
    "* Introduce Callysto to your own classroom\n",
    "* Describe how the Callysto program applies to teachers and schools\n",
    "* Explain the benefits of the Callysto program to students and colleagues\n",
    "\n"
   ]
  },
  {
   "cell_type": "markdown",
   "id": "d55e408c-db2a-42bb-9426-fd5cf38946a4",
   "metadata": {},
   "source": [
    "[![Callysto.ca License](https://github.com/callysto/curriculum-notebooks/blob/master/callysto-notebook-banner-bottom.jpg?raw=true)](https://github.com/callysto/curriculum-notebooks/blob/master/LICENSE.md)"
   ]
  }
 ],
 "metadata": {
  "kernelspec": {
   "display_name": "Python 3 (ipykernel)",
   "language": "python",
   "name": "python3"
  },
  "language_info": {
   "codemirror_mode": {
    "name": "ipython",
    "version": 3
   },
   "file_extension": ".py",
   "mimetype": "text/x-python",
   "name": "python",
   "nbconvert_exporter": "python",
   "pygments_lexer": "ipython3",
   "version": "3.11.6"
  }
 },
 "nbformat": 4,
 "nbformat_minor": 5
}
