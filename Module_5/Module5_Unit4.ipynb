{
 "cells": [
  {
   "cell_type": "markdown",
   "id": "57f03a22-aedd-4fdd-ae79-af75722a3dd0",
   "metadata": {},
   "source": [
    "![Callysto.ca Banner](https://github.com/callysto/curriculum-notebooks/blob/master/callysto-notebook-banner-top.jpg?raw=true)"
   ]
  },
  {
   "cell_type": "markdown",
   "id": "9a711085-097f-460b-b501-b591f2bbc416",
   "metadata": {},
   "source": [
    "# Module 5 Unit 4 - Learning Outcomes\n",
    "\n",
    "By the end of this unit, you will be able to\n",
    "* Demonstrate how both Markdown and Python can be used together in a notebook\n",
    "\n",
    "# Putting it all Together\n",
    "\n",
    "### Literate Programming in Action\n",
    "Please note watching this video is important for understanding the next sections in this unit. \n",
    "\n",
    "<p align=\"center\" width=\"100%\">\n",
    "    <img width=\"70%\" src=\"../_images/m5_U4_Literate-programming-ex.png\">\n",
    "</p>\n",
    "\n",
    "Referring back to Module 3, the driving concept behind the Jupyter notebook is the idea of literate programming, where you can have plain text formatting and executable programming code adjacent to each other and interspersed in a single document. The idea is to have a word processor, spreadsheet and executable coding platform all in one document to help enable cohesive report generation, and to be better able to explain how the process of computational thinking is executed through code. \n",
    "\n",
    "As we also discussed in Module 3, the Markdown language is itself a lightweight markup language that helps enable the literate programming paradigm. In addition, for Math and Science teachers, the LaTeX language is a document preparation system that enables you to do high-quality typesetting, especially with respect to mathematical and scientific notation, in a Jupyter notebook. Overall, Jupyter Notebooks provide a powerful platform for Markdown and Python languages (and sometimes LaTeX) which can be combined in powerful ways to demonstrate the power of literate programming when applied to the subject of computational thinking."
   ]
  },
  {
   "cell_type": "markdown",
   "id": "170649f7-9a47-45ec-aebd-6fe042dd8ba5",
   "metadata": {
    "jp-MarkdownHeadingCollapsed": true,
    "tags": []
   },
   "source": [
    "### External Activity\n",
    "\n",
    "Think about a real classroom example where you could build a Jupyter notebook that uses both code and markdown cells.\n",
    "\n",
    "Here is an example of a simple Jupyter Notebook used to calculate the area of a circle. \n",
    "\n",
    "<p align=\"center\" width=\"100%\">\n",
    "    <img width=\"70%\" src=\"../_images/M5_U4_AreaOfACircle.png\">\n",
    "</p>\n",
    "\n",
    "\n",
    "It incorporates the following techniques that were addressed in Modules 3 and 5.\n",
    "\n",
    "**Markdown Cells**\n",
    "- 2 levels of headings\n",
    "- Regular Text\n",
    "- Images\n",
    "- LaTeX\n",
    "    - Displayed math\n",
    "    - Inline math\n",
    "    \n",
    "**Code Cells**\n",
    "- Comments\n",
    "- Variables\n",
    "    - Input\n",
    "    - Output\n",
    "- Math Operations using the variables\n",
    "\n",
    "You may try [downloading](https://courses.callysto.ca/assets/courseware/v1/3be3be4969def1f0c58fabf7900b524f/asset-v1:Callysto+CCT101+2022-2023+type@asset+block/Area_of_a_Circle.ipynb) or [opening](https://mybinder.org/v2/gh/callysto/online-courses/master?filepath=CallystoAndComputationalThinking%2FArea-of-a-Circle.ipynb) this notebook, or making one of your own.\n",
    "\n",
    "### Activity\n",
    "\n",
    "- Can you list all possible options for crossing that get all 4 people across? How many are there?\n",
    "- Of these listings, which one takes the least time?\n",
    "- Is there one that takes a maximum amount of time?\n",
    "\n",
    "It would be great to have a tool that lets you and your students explore these computational ideas. This is the motivation behind the Callysto project -- to get those tools in your hands. In the next module, you will learn about Jupyter notebooks. These are online documents that let you combine your lecture notes with pictures, graphics, and computer code, so your students can learn how to connect ideas to code. It is a powerful way to learn computational thinking. \n",
    "\n",
    "*More examples* \n",
    ">You can visit [TED-Ed Riddles on YouTube](https://www.ted.com/search?q=ted+ed+riddles).\n"
   ]
  },
  {
   "cell_type": "markdown",
   "id": "d55e408c-db2a-42bb-9426-fd5cf38946a4",
   "metadata": {},
   "source": [
    "[![Callysto.ca License](https://github.com/callysto/curriculum-notebooks/blob/master/callysto-notebook-banner-bottom.jpg?raw=true)](https://github.com/callysto/curriculum-notebooks/blob/master/LICENSE.md)"
   ]
  }
 ],
 "metadata": {
  "kernelspec": {
   "display_name": "Python 3 (ipykernel)",
   "language": "python",
   "name": "python3"
  },
  "language_info": {
   "codemirror_mode": {
    "name": "ipython",
    "version": 3
   },
   "file_extension": ".py",
   "mimetype": "text/x-python",
   "name": "python",
   "nbconvert_exporter": "python",
   "pygments_lexer": "ipython3",
   "version": "3.9.12"
  }
 },
 "nbformat": 4,
 "nbformat_minor": 5
}
