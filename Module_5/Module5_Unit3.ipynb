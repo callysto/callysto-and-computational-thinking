{
 "cells": [
  {
   "cell_type": "markdown",
   "id": "57f03a22-aedd-4fdd-ae79-af75722a3dd0",
   "metadata": {},
   "source": [
    "![Callysto.ca Banner](https://github.com/callysto/curriculum-notebooks/blob/master/callysto-notebook-banner-top.jpg?raw=true)"
   ]
  },
  {
   "cell_type": "markdown",
   "id": "9a711085-097f-460b-b501-b591f2bbc416",
   "metadata": {},
   "source": [
    "# Module 5 Unit 3 - Functions and Graphing\n",
    "\n",
    "## Unit Learning Objectives\n",
    "\n",
    "By the end of this unit, you will be able to\n",
    "* Program functions\n",
    "* Create basic graphs in a Jupyter notebook\n",
    "\n",
    "\n",
    "### Programming Fundamentals\n",
    "\n",
    "Let’s continue to explore some more programming directly in a Jupyter notebook.  In this notebook, you will learn about the following programming fundamentals:\n",
    "\n",
    "**Functions**\n",
    "\n",
    ">Functions are an easy way to organize code into useful blocks, allowing code to be ordered, which makes it easier to read, reuse, and save some time.\n",
    "\n",
    "**Basic Graphing** \n",
    "\n",
    ">Data sets and functions can be graphed using Python. These graphs can be displayed along with text, images, video and code in the Jupyter Notebook."
   ]
  },
  {
   "cell_type": "markdown",
   "id": "170649f7-9a47-45ec-aebd-6fe042dd8ba5",
   "metadata": {
    "tags": []
   },
   "source": [
    "### External Activity: Programming Functions and Basic Graphing in Python\n",
    "\n",
    "Work through this Jupyter Notebook to learn about and get hands on with programming functions and basic graphing in Python. Remember to “Run” your cells.\n",
    "\n",
    "- Link to [Python Exercise Part 2](https://mybinder.org/v2/gh/callysto/online-courses/master?filepath=CallystoAndComputationalThinking%2FPython-Exercise-Part2.ipynb)\n",
    "\n",
    "Want to check your work - open this notebook and compare to the one you were working on.\n",
    "\n",
    "- Link to [Python Solution Part 2](https://mybinder.org/v2/gh/callysto/online-courses/master?filepath=CallystoAndComputationalThinking%2FPython-Solution-Part2.ipynb)\n",
    "\n",
    "If you enjoyed this, you may want to take a detour and keep learning about python. LearnPython is an interactive tutorial for anyone who wants to learn Python.\n",
    "\n",
    "For even more Python learning activities, visit:\n",
    "\n",
    "- https://github.com/jerry-git/learn-python3  - Beginner and Intermediate resources in Jupyter notebook format. You can download the notebooks' sub-folders and upload the notebook files (lessons and exercises) to your Callysto Hub account.\n",
    "- https://thepythonguru.com - A beginner Python tutorial. You can copy and paste, and run the code examples in your own Jupyter notebook.\n",
    "\n",
    "\n",
    "### External Activity: Drawing with Turtles! Build your first Turtle program\n",
    "\n",
    "<p align=\"center\" width=\"100%\">\n",
    "    <img width=\"50%\" src=\"../_images/M5_Unit3image.jpeg\">\n",
    "</p>\n",
    "\n",
    "\n",
    "Now let’s put some of these programming features to work drawing with turtles.  In these exercises, try and command the Turtle to draw the identified images by using the list of Turtle commands provided in the notebook. If you can do this easily, then try and move on and draw the more complex flower images. \n",
    "\n",
    "Remember in order to get your Turtle to interpret your instructions you need to “Run” your code cells.  Try and use the different programming concepts introduced in this module including:\n",
    "\n",
    "- Variables\n",
    "- Loops\n",
    "- Functions\n",
    "- Lists\n",
    "\n",
    "Activity: \n",
    "\n",
    "Link to [Turtles Exercise notebook](https://mybinder.org/v2/gh/callysto/online-courses/master?filepath=CallystoAndComputationalThinking%2FTurtles-Exercise.ipynb)\n",
    "\n",
    "Want to check your work? Open this Python notebook and compare to the one you were working on.\n",
    "\n",
    "Link to [Turtles Solution notebook](https://mybinder.org/v2/gh/callysto/online-courses/master?filepath=CallystoAndComputationalThinking%2FTurtles-Solution.ipynb)\n"
   ]
  },
  {
   "cell_type": "markdown",
   "id": "d55e408c-db2a-42bb-9426-fd5cf38946a4",
   "metadata": {},
   "source": [
    "[![Callysto.ca License](https://github.com/callysto/curriculum-notebooks/blob/master/callysto-notebook-banner-bottom.jpg?raw=true)](https://github.com/callysto/curriculum-notebooks/blob/master/LICENSE.md)"
   ]
  }
 ],
 "metadata": {
  "kernelspec": {
   "display_name": "Python 3 (ipykernel)",
   "language": "python",
   "name": "python3"
  },
  "language_info": {
   "codemirror_mode": {
    "name": "ipython",
    "version": 3
   },
   "file_extension": ".py",
   "mimetype": "text/x-python",
   "name": "python",
   "nbconvert_exporter": "python",
   "pygments_lexer": "ipython3",
   "version": "3.9.12"
  }
 },
 "nbformat": 4,
 "nbformat_minor": 5
}
