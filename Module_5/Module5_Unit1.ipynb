{
 "cells": [
  {
   "cell_type": "markdown",
   "id": "57f03a22-aedd-4fdd-ae79-af75722a3dd0",
   "metadata": {},
   "source": [
    "![Callysto.ca Banner](https://github.com/callysto/curriculum-notebooks/blob/master/callysto-notebook-banner-top.jpg?raw=true)"
   ]
  },
  {
   "cell_type": "markdown",
   "id": "9a711085-097f-460b-b501-b591f2bbc416",
   "metadata": {},
   "source": [
    "# Module 5 Unit 1 - A Closer Look at Cell Types\n",
    "\n",
    "## Unit Learning Objectives\n",
    "\n",
    "By the end of this unit, you will be able to\n",
    "* Differentiate between code and markdown cells\n",
    "* Troubleshoot cell type errors\n",
    "\n",
    "\n",
    "### Why Learn the Python Programming Language?\n",
    "Callysto Interviews "
   ]
  },
  {
   "cell_type": "code",
   "execution_count": 1,
   "id": "1f00ab6c-d4ef-4302-8666-6882a02b76c7",
   "metadata": {},
   "outputs": [
    {
     "data": {
      "image/jpeg": "[encoded data removed]",
      "text/html": [
       "\n",
       "        <iframe\n",
       "            width=\"400\"\n",
       "            height=\"300\"\n",
       "            src=\"https://www.youtube.com/embed/aijmKLg0UkI\"\n",
       "            frameborder=\"0\"\n",
       "            allowfullscreen\n",
       "            \n",
       "        ></iframe>\n",
       "        "
      ],
      "text/plain": [
       "<IPython.lib.display.YouTubeVideo at 0x7fe710fd5400>"
      ]
     },
     "execution_count": 1,
     "metadata": {},
     "output_type": "execute_result"
    }
   ],
   "source": [
    "from IPython.display import YouTubeVideo\n",
    "YouTubeVideo('aijmKLg0UkI')"
   ]
  },
  {
   "cell_type": "markdown",
   "id": "170649f7-9a47-45ec-aebd-6fe042dd8ba5",
   "metadata": {},
   "source": [
    "### How do I use Python in a Jupyter Notebook?\n",
    "\n",
    "<p align=\"center\" width=\"100%\">\n",
    "    <img width=\"50%\" src=\"../_images/M5_U1image.png\">\n",
    "</p>\n",
    "\n",
    "As you saw in Module 3, the primary cell types available in a Jupyter notebook are Markdown - for word processing - and Coding - for Python programming. In order to start Python coding in a Jupyter notebook, or anywhere, it’s important to understand a bit of Python syntax and style rules. For Python syntax or lexicon the [Python Language Reference Guide](https://docs.python.org/3.6/reference/index.html) is the standard. For Python coding practices, in general, it is best to follow the coding practices of the Python community as closely as possible. The folks who've taken the time to develop them have thought much more than any of us about what makes Python code easier to read and PEP 8 (Python Enhancement Proposal) is considered the de-facto style guide of the Python community. A deeper dive into Python syntax and style is outside the scope of this course but we will touch on a few elements to help you get started.\n",
    "\n",
    "### Activity\n",
    "\n",
    "In Module 3, you were always working with Markdown text. In order for cells to run as expected, it was important that the cell be set as a Markdown cell.  When you are using coding or programming commands, it will be necessary to set the cell type as Code instead of Markdown.\n",
    "\n",
    "In this example, we have two cells—a markdown cell and a code cell. Neither cell has any content in it.\n",
    "\n",
    "<p align=\"center\" width=\"100%\">\n",
    "    <img width=\"70%\" src=\"../_images/M5_U1_code-cells-screenshot.png\">\n",
    "</p>\n",
    "\n",
    "Do you notice the difference between the way the 2 cell types are displayed? The markdown cell appears as a simple grey box. The code cell is also a grey box, but it is preceded by In [  ]:\n",
    "\n",
    "You may see some similar syntax/symbols in code cells and markdown cells, however the same symbols will behave differently depending on the cell type. Let’s go back to the Notebook with 2 blank cells - 1 markdown and 1 code.\n",
    "\n",
    "**Type the following into each type of cell in your notebook and then answer the following multiple choice questions below:**\n",
    "\n",
    "* ##This is a code cell\n"
   ]
  },
  {
   "cell_type": "markdown",
   "id": "d55e408c-db2a-42bb-9426-fd5cf38946a4",
   "metadata": {},
   "source": [
    "[![Callysto.ca License](https://github.com/callysto/curriculum-notebooks/blob/master/callysto-notebook-banner-bottom.jpg?raw=true)](https://github.com/callysto/curriculum-notebooks/blob/master/LICENSE.md)"
   ]
  }
 ],
 "metadata": {
  "kernelspec": {
   "display_name": "Python 3 (ipykernel)",
   "language": "python",
   "name": "python3"
  },
  "language_info": {
   "codemirror_mode": {
    "name": "ipython",
    "version": 3
   },
   "file_extension": ".py",
   "mimetype": "text/x-python",
   "name": "python",
   "nbconvert_exporter": "python",
   "pygments_lexer": "ipython3",
   "version": "3.9.12"
  }
 },
 "nbformat": 4,
 "nbformat_minor": 5
}
