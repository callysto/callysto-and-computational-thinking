{
 "cells": [
  {
   "cell_type": "markdown",
   "id": "57f03a22-aedd-4fdd-ae79-af75722a3dd0",
   "metadata": {},
   "source": [
    "![Callysto.ca Banner](https://github.com/callysto/curriculum-notebooks/blob/master/callysto-notebook-banner-top.jpg?raw=true)"
   ]
  },
  {
   "cell_type": "markdown",
   "id": "9a711085-097f-460b-b501-b591f2bbc416",
   "metadata": {},
   "source": [
    "# Module 5 Unit 2 - Intro to Python Programming\n",
    "\n",
    "## Unit Learning Objectives\n",
    "\n",
    "By the end of this unit, you will be able to\n",
    "* Use variables in Python\n",
    "* Perform mathematical operations in Python\n",
    "* Simplify programming through the use of loops\n",
    "* Create conditions using if/else statements in Python\n",
    "\n",
    "\n",
    "### Basics of Programming\n",
    "In order to learn about programming in a Jupyter Notebook, we think it best for you to do all of this directly in a Jupyter notebook. In this notebook, you will learn about the following basics of programming: \n",
    "\n",
    "**Variables**\n",
    "\n",
    ">Variables are one way to name data. Programs then use that information again throughout the program. Unlike other programming languages, Python has no command for declaring a variable. The first time you enter a variable, python recognizes it as such.\n",
    "A variable is created the moment you first assign a value to it.\n",
    "\n",
    "**Mathematical Operations**\n",
    "\n",
    ">In Module 3, we learned about LaTeX, which allowed you to format a math equation, but did not calculate or compute the math equation. LaTeX only helped with displaying the equation. In Code cells, python can be programmed to compute mathematical operations.\n",
    "\n",
    "**Loops**\n",
    "\n",
    ">A loop in programming is a set of instructions that you can make repeat until a certain requirement is met.\n",
    "Recall how loops were used in Module 2 in the knitting example to simplify the instructions.\n",
    "\n",
    "**If/else Statements**\n",
    "\n",
    ">These are conditional statements used in programming. IF is used when you want to write a statement or step to evaluate if a condition has been met. ELSE is used to indicate what happens when the condition is not met.\n",
    "\n",
    "Recall how IF/ELSE statements were addressed in Module 2\n",
    "\n",
    "When following directions: \n",
    "- **IF** you are facing south:\n",
    "    - turn around until you face north and then start walking\n",
    "- **ELSE**\n",
    "    - Start walking\n",
    "    \n",
    "### External Activity: Python Exercises\n",
    "\n",
    "Work through this Jupyter Notebook for an Introduction to Python programming. Take Python for a test drive as we go through some of the basics. Remember to “Run” your cells.\n",
    "\n",
    "- Link to [Python Exercise Part 1](https://mybinder.org/v2/gh/callysto/online-courses/master?filepath=CallystoAndComputationalThinking%2FPython-Exercise-Part1.ipynb)\n",
    "\n",
    "Want to check your work? Open this Python notebook and compare to the one you were working on.\n",
    "\n",
    "- Link to [Python Solution Part 1](https://mybinder.org/v2/gh/callysto/online-courses/master?filepath=CallystoAndComputationalThinking%2FPython-Solution-Part1.ipynb)"
   ]
  },
  {
   "cell_type": "markdown",
   "id": "d55e408c-db2a-42bb-9426-fd5cf38946a4",
   "metadata": {},
   "source": [
    "[![Callysto.ca License](https://github.com/callysto/curriculum-notebooks/blob/master/callysto-notebook-banner-bottom.jpg?raw=true)](https://github.com/callysto/curriculum-notebooks/blob/master/LICENSE.md)"
   ]
  }
 ],
 "metadata": {
  "kernelspec": {
   "display_name": "Python 3 (ipykernel)",
   "language": "python",
   "name": "python3"
  },
  "language_info": {
   "codemirror_mode": {
    "name": "ipython",
    "version": 3
   },
   "file_extension": ".py",
   "mimetype": "text/x-python",
   "name": "python",
   "nbconvert_exporter": "python",
   "pygments_lexer": "ipython3",
   "version": "3.9.12"
  }
 },
 "nbformat": 4,
 "nbformat_minor": 5
}
